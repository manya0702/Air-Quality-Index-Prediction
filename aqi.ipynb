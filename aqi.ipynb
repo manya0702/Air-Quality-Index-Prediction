{
  "cells": [
    {
      "cell_type": "code",
      "execution_count": null,
      "metadata": {
        "id": "UVKmbtAir0gH"
      },
      "outputs": [],
      "source": [
        "import numpy as np\n",
        "import pandas as pd\n",
        "import matplotlib.pyplot as plt"
      ]
    },
    {
      "cell_type": "code",
      "execution_count": null,
      "metadata": {
        "colab": {
          "base_uri": "https://localhost:8080/"
        },
        "id": "g0JEX1wOsvGf",
        "outputId": "f5f8317d-9d34-4c35-f6be-658ccfd2f47a"
      },
      "outputs": [
        {
          "output_type": "stream",
          "name": "stdout",
          "text": [
            "(495512, 15) (212363, 14)\n"
          ]
        }
      ],
      "source": [
        "df = pd.read_csv('/content/drive/MyDrive/machine_hack/aqi/train.csv')\n",
        "df1 = pd.read_csv('/content/drive/MyDrive/machine_hack/aqi/test.csv')\n",
        "print(df.shape, df1.shape)"
      ]
    },
    {
      "cell_type": "code",
      "execution_count": null,
      "metadata": {
        "colab": {
          "base_uri": "https://localhost:8080/"
        },
        "id": "Hm0NZv9Gs5yk",
        "outputId": "f045ec7a-0b22-4d38-bc32-ed3beb530482"
      },
      "outputs": [
        {
          "name": "stdout",
          "output_type": "stream",
          "text": [
            "<class 'pandas.core.frame.DataFrame'>\n",
            "RangeIndex: 495512 entries, 0 to 495511\n",
            "Data columns (total 15 columns):\n",
            " #   Column      Non-Null Count   Dtype  \n",
            "---  ------      --------------   -----  \n",
            " 0   City        495512 non-null  object \n",
            " 1   Datetime    495512 non-null  object \n",
            " 2   PM2.5       488851 non-null  float64\n",
            " 3   PM10        484693 non-null  float64\n",
            " 4   NO          469994 non-null  float64\n",
            " 5   NO2         489898 non-null  float64\n",
            " 6   NOx         485090 non-null  float64\n",
            " 7   NH3         474977 non-null  float64\n",
            " 8   CO          490495 non-null  float64\n",
            " 9   SO2         483354 non-null  float64\n",
            " 10  O3          471898 non-null  float64\n",
            " 11  Benzene     486993 non-null  float64\n",
            " 12  Toluene     484508 non-null  float64\n",
            " 13  Xylene      483352 non-null  float64\n",
            " 14  AQI_Bucket  495512 non-null  int64  \n",
            "dtypes: float64(12), int64(1), object(2)\n",
            "memory usage: 56.7+ MB\n"
          ]
        }
      ],
      "source": [
        "df.info()"
      ]
    },
    {
      "cell_type": "code",
      "execution_count": null,
      "metadata": {
        "colab": {
          "base_uri": "https://localhost:8080/"
        },
        "id": "WL5UhxALs-lv",
        "outputId": "0a81cafa-dd1f-4e82-9c43-b0cb211ccd90"
      },
      "outputs": [
        {
          "name": "stdout",
          "output_type": "stream",
          "text": [
            "<class 'pandas.core.frame.DataFrame'>\n",
            "RangeIndex: 212363 entries, 0 to 212362\n",
            "Data columns (total 14 columns):\n",
            " #   Column    Non-Null Count   Dtype  \n",
            "---  ------    --------------   -----  \n",
            " 0   City      212363 non-null  object \n",
            " 1   Datetime  212363 non-null  object \n",
            " 2   PM2.5     209397 non-null  float64\n",
            " 3   PM10      207609 non-null  float64\n",
            " 4   NO        201426 non-null  float64\n",
            " 5   NO2       209837 non-null  float64\n",
            " 6   NOx       207920 non-null  float64\n",
            " 7   NH3       203522 non-null  float64\n",
            " 8   CO        210302 non-null  float64\n",
            " 9   SO2       207179 non-null  float64\n",
            " 10  O3        202353 non-null  float64\n",
            " 11  Benzene   208778 non-null  float64\n",
            " 12  Toluene   207723 non-null  float64\n",
            " 13  Xylene    207181 non-null  float64\n",
            "dtypes: float64(12), object(2)\n",
            "memory usage: 22.7+ MB\n"
          ]
        }
      ],
      "source": [
        "df1.info()"
      ]
    },
    {
      "cell_type": "code",
      "execution_count": null,
      "metadata": {
        "colab": {
          "base_uri": "https://localhost:8080/"
        },
        "id": "-xAlKrdqtBUM",
        "outputId": "f3129e2a-531c-4b35-9749-1bfeb50e635a"
      },
      "outputs": [
        {
          "data": {
            "text/plain": [
              "False"
            ]
          },
          "execution_count": 5,
          "metadata": {},
          "output_type": "execute_result"
        }
      ],
      "source": [
        "df.duplicated().any()"
      ]
    },
    {
      "cell_type": "code",
      "execution_count": null,
      "metadata": {
        "colab": {
          "base_uri": "https://localhost:8080/"
        },
        "id": "V3bipbWitF2T",
        "outputId": "8a5d24e3-383e-4221-b366-1913a7857a69"
      },
      "outputs": [
        {
          "data": {
            "text/plain": [
              "City              0\n",
              "Datetime          0\n",
              "PM2.5          6661\n",
              "PM10          10819\n",
              "NO            25518\n",
              "NO2            5614\n",
              "NOx           10422\n",
              "NH3           20535\n",
              "CO             5017\n",
              "SO2           12158\n",
              "O3            23614\n",
              "Benzene        8519\n",
              "Toluene       11004\n",
              "Xylene        12160\n",
              "AQI_Bucket        0\n",
              "dtype: int64"
            ]
          },
          "execution_count": 6,
          "metadata": {},
          "output_type": "execute_result"
        }
      ],
      "source": [
        "df.isnull().sum()"
      ]
    },
    {
      "cell_type": "code",
      "execution_count": null,
      "metadata": {
        "colab": {
          "base_uri": "https://localhost:8080/"
        },
        "id": "DxE4RVuozqBx",
        "outputId": "50145404-fa76-488d-e0e8-c9d2383e98f2"
      },
      "outputs": [
        {
          "data": {
            "text/plain": [
              "City             26\n",
              "Datetime      48191\n",
              "PM2.5          5486\n",
              "PM10           6926\n",
              "NO             3347\n",
              "NO2            2742\n",
              "NOx            3624\n",
              "NH3            2787\n",
              "CO             1671\n",
              "SO2            1958\n",
              "O3             2092\n",
              "Benzene        1333\n",
              "Toluene        1946\n",
              "Xylene          895\n",
              "AQI_Bucket        7\n",
              "dtype: int64"
            ]
          },
          "execution_count": 8,
          "metadata": {},
          "output_type": "execute_result"
        }
      ],
      "source": [
        "df.nunique()"
      ]
    },
    {
      "cell_type": "code",
      "execution_count": null,
      "metadata": {
        "colab": {
          "base_uri": "https://localhost:8080/"
        },
        "id": "7g3zAK2QtJYk",
        "outputId": "34159125-da1c-4cca-9dd3-48d2253c287e"
      },
      "outputs": [
        {
          "data": {
            "text/plain": [
              "City            0\n",
              "Datetime        0\n",
              "PM2.5        2966\n",
              "PM10         4754\n",
              "NO          10937\n",
              "NO2          2526\n",
              "NOx          4443\n",
              "NH3          8841\n",
              "CO           2061\n",
              "SO2          5184\n",
              "O3          10010\n",
              "Benzene      3585\n",
              "Toluene      4640\n",
              "Xylene       5182\n",
              "dtype: int64"
            ]
          },
          "execution_count": 9,
          "metadata": {},
          "output_type": "execute_result"
        }
      ],
      "source": [
        "df1.isnull().sum()"
      ]
    },
    {
      "cell_type": "code",
      "execution_count": null,
      "metadata": {
        "id": "6TedHwH_tOlc"
      },
      "outputs": [],
      "source": [
        "df.Datetime = pd.to_datetime(df.Datetime)\n",
        "df1.Datetime = pd.to_datetime(df1.Datetime)"
      ]
    },
    {
      "cell_type": "code",
      "execution_count": null,
      "metadata": {
        "id": "7Xq8BJHTtYrp"
      },
      "outputs": [],
      "source": [
        "df['train']=1\n",
        "df1['train']=0"
      ]
    },
    {
      "cell_type": "code",
      "execution_count": null,
      "metadata": {
        "id": "WNW1iTxl-Rxv"
      },
      "outputs": [],
      "source": [
        "df['index'] = df.index\n",
        "df1['index'] = df1.index"
      ]
    },
    {
      "cell_type": "code",
      "execution_count": null,
      "metadata": {
        "colab": {
          "base_uri": "https://localhost:8080/"
        },
        "id": "OVnL6RfntaiO",
        "outputId": "3e46e2bb-425e-47c6-f191-11b3c355eb07"
      },
      "outputs": [
        {
          "output_type": "stream",
          "name": "stdout",
          "text": [
            "(707875, 17)\n"
          ]
        }
      ],
      "source": [
        "df_agg = pd.concat([df,df1],axis=0)\n",
        "print(df_agg.shape)"
      ]
    },
    {
      "cell_type": "code",
      "execution_count": null,
      "metadata": {
        "id": "dWK_oraktdvi"
      },
      "outputs": [],
      "source": [
        "df_agg_delhi = df_agg[df_agg.City=='Delhi']\n",
        "df_agg_delhi = df_agg_delhi.sort_values(['Datetime'])\n",
        "df_agg_delhi = df_agg_delhi.fillna(method='ffill')"
      ]
    },
    {
      "cell_type": "code",
      "execution_count": null,
      "metadata": {
        "colab": {
          "base_uri": "https://localhost:8080/"
        },
        "id": "-zBnV2fptuVz",
        "outputId": "62a9f32c-059c-465a-ccc1-8f93f7fa0a8a"
      },
      "outputs": [
        {
          "output_type": "stream",
          "name": "stderr",
          "text": [
            "100%|██████████| 25/25 [00:05<00:00,  4.79it/s]\n"
          ]
        }
      ],
      "source": [
        "DF = df_agg_delhi\n",
        "cities = [x for x in df_agg.City.unique() if x not in ['Delhi']]\n",
        "from tqdm import tqdm\n",
        "for city in tqdm(cities):\n",
        "    df_agg_city = df_agg[df_agg.City==city]\n",
        "    df_agg_city = df_agg_city.sort_values(['Datetime'])\n",
        "    df_agg_city = df_agg_city.fillna(method='ffill')\n",
        "    df_agg_city = df_agg_city.fillna(method='bfill')\n",
        "    DF = pd.concat([DF,df_agg_city],axis=0)"
      ]
    },
    {
      "cell_type": "code",
      "execution_count": null,
      "metadata": {
        "id": "Du83wkfhXrcG"
      },
      "outputs": [],
      "source": [
        "DF = DF.reset_index().drop(['level_0'],axis=1)"
      ]
    },
    {
      "cell_type": "code",
      "execution_count": null,
      "metadata": {
        "colab": {
          "base_uri": "https://localhost:8080/"
        },
        "id": "JENvfuQwEaE8",
        "outputId": "519cbad2-e519-4572-bb3b-904a14f52805"
      },
      "outputs": [
        {
          "output_type": "execute_result",
          "data": {
            "text/plain": [
              "City          0\n",
              "Datetime      0\n",
              "PM2.5         0\n",
              "PM10          0\n",
              "NO            0\n",
              "NO2           0\n",
              "NOx           0\n",
              "NH3           0\n",
              "CO            0\n",
              "SO2           0\n",
              "O3            0\n",
              "Benzene       0\n",
              "Toluene       0\n",
              "Xylene        0\n",
              "AQI_Bucket    0\n",
              "train         0\n",
              "index         0\n",
              "dtype: int64"
            ]
          },
          "metadata": {},
          "execution_count": 12
        }
      ],
      "source": [
        "DF.isnull().sum()"
      ]
    },
    {
      "cell_type": "code",
      "execution_count": null,
      "metadata": {
        "colab": {
          "base_uri": "https://localhost:8080/",
          "height": 522
        },
        "id": "iT3COiTUILjt",
        "outputId": "3612bb45-3684-4c4e-903d-52cec4e55b41"
      },
      "outputs": [
        {
          "output_type": "display_data",
          "data": {
            "text/plain": [
              "<Figure size 1800x600 with 1 Axes>"
            ],
            "image/png": "[encoded data removed]"
          },
          "metadata": {}
        }
      ],
      "source": [
        "plt.figure(figsize=(18,6))\n",
        "plt.plot(DF[DF.City=='Delhi']['Datetime'],DF[DF.City=='Delhi']['PM2.5'])\n",
        "plt.show()"
      ]
    },
    {
      "cell_type": "code",
      "execution_count": null,
      "metadata": {
        "colab": {
          "base_uri": "https://localhost:8080/",
          "height": 522
        },
        "id": "jerEAodcKaSz",
        "outputId": "6c3e54a4-072e-4559-a444-86a2723dd5a8"
      },
      "outputs": [
        {
          "output_type": "display_data",
          "data": {
            "text/plain": [
              "<Figure size 1800x600 with 1 Axes>"
            ],
            "image/png": "[encoded data removed]"
          },
          "metadata": {}
        }
      ],
      "source": [
        "plt.figure(figsize=(18,6))\n",
        "plt.plot(DF[DF.City=='Delhi']['Datetime'],DF[DF.City=='Delhi']['PM10'])\n",
        "plt.show()"
      ]
    },
    {
      "cell_type": "code",
      "execution_count": null,
      "metadata": {
        "colab": {
          "base_uri": "https://localhost:8080/",
          "height": 522
        },
        "id": "ttkMfwpqK4H2",
        "outputId": "26e1f4b8-9e10-4ef1-d106-1240f49a1d43"
      },
      "outputs": [
        {
          "data": {
            "image/png": "[encoded data removed]",
            "text/plain": [
              "<Figure size 1800x600 with 1 Axes>"
            ]
          },
          "metadata": {},
          "output_type": "display_data"
        }
      ],
      "source": [
        "plt.figure(figsize=(18,6))\n",
        "plt.plot(DF[DF.City=='Delhi']['Datetime'][:24],DF[DF.City=='Delhi']['AQI_Bucket'][:24])\n",
        "plt.show()"
      ]
    },
    {
      "cell_type": "code",
      "execution_count": null,
      "metadata": {
        "colab": {
          "base_uri": "https://localhost:8080/",
          "height": 423
        },
        "id": "yKeq1Ns0MWtt",
        "outputId": "0b10a66d-94af-4453-e5e5-9c6548e7efe7"
      },
      "outputs": [
        {
          "output_type": "execute_result",
          "data": {
            "text/plain": [
              "             City            Datetime  PM2.5   PM10     NO   NO2    NOx   NH3  \\\n",
              "0           Delhi 2015-01-01 01:00:00  454.6  935.2   81.5  41.8  187.7  27.5   \n",
              "1           Delhi 2015-01-01 02:00:00  440.4  119.1   70.8  43.5  176.8  27.7   \n",
              "2           Delhi 2015-01-01 03:00:00  409.1  119.1  132.5  41.2  141.0  28.9   \n",
              "3           Delhi 2015-01-01 04:00:00  436.1  119.1   84.8  39.6  102.8  29.3   \n",
              "4           Delhi 2015-01-01 05:00:00  415.9  977.0   60.2  37.4   80.1  30.8   \n",
              "...           ...                 ...    ...    ...    ...   ...    ...   ...   \n",
              "707870  Ernakulam 2020-06-30 20:00:00   12.0   39.1    3.5   2.4    2.2   2.6   \n",
              "707871  Ernakulam 2020-06-30 21:00:00   13.1   43.4    2.8   2.4    1.7   1.6   \n",
              "707872  Ernakulam 2020-06-30 22:00:00   17.0   54.8    2.6   2.4    1.6   1.4   \n",
              "707873  Ernakulam 2020-06-30 23:00:00   14.8   46.0    2.6   2.4    1.6   1.5   \n",
              "707874  Ernakulam 2020-07-01 00:00:00    5.9   13.9    2.6   2.4    1.6   1.4   \n",
              "\n",
              "          CO  SO2    O3  Benzene  Toluene  Xylene  AQI_Bucket  train   index  \n",
              "0        9.3  3.4  54.9     25.2     58.6    13.8         2.0      1  311301  \n",
              "1       13.3  3.9  50.5     23.1     49.4    15.6         2.0      0  200618  \n",
              "2       29.7  2.8  19.3     19.0     38.9    17.2         5.0      1  100152  \n",
              "3       21.8  2.8  20.1     14.0     27.5    16.8         3.0      1   63324  \n",
              "4       26.2  6.2  16.0     11.1     22.0    14.3         0.0      1  396852  \n",
              "...      ...  ...   ...      ...      ...     ...         ...    ...     ...  \n",
              "707870   2.7  2.7  34.8      0.0      0.0     0.0         1.0      1  165758  \n",
              "707871   2.8  2.7  34.8      0.0      0.0     0.0         5.0      1  406827  \n",
              "707872   2.5  2.7  34.8      0.0      0.0     0.0         5.0      0   13064  \n",
              "707873   2.2  2.4  34.8      0.0      0.0     0.0         1.0      1   43432  \n",
              "707874   2.1  2.7  34.8      0.0      0.0     0.0         3.0      1  142565  \n",
              "\n",
              "[707875 rows x 17 columns]"
            ],
            "text/html": [
              "\n",
              "  <div id=\"df-8cbcd717-5a7b-4650-9701-c410728ae8b0\">\n",
              "    <div class=\"colab-df-container\">\n",
              "      <div>\n",
              "<style scoped>\n",
              "    .dataframe tbody tr th:only-of-type {\n",
              "        vertical-align: middle;\n",
              "    }\n",
              "\n",
              "    .dataframe tbody tr th {\n",
              "        vertical-align: top;\n",
              "    }\n",
              "\n",
              "    .dataframe thead th {\n",
              "        text-align: right;\n",
              "    }\n",
              "</style>\n",
              "<table border=\"1\" class=\"dataframe\">\n",
              "  <thead>\n",
              "    <tr style=\"text-align: right;\">\n",
              "      <th></th>\n",
              "      <th>City</th>\n",
              "      <th>Datetime</th>\n",
              "      <th>PM2.5</th>\n",
              "      <th>PM10</th>\n",
              "      <th>NO</th>\n",
              "      <th>NO2</th>\n",
              "      <th>NOx</th>\n",
              "      <th>NH3</th>\n",
              "      <th>CO</th>\n",
              "      <th>SO2</th>\n",
              "      <th>O3</th>\n",
              "      <th>Benzene</th>\n",
              "      <th>Toluene</th>\n",
              "      <th>Xylene</th>\n",
              "      <th>AQI_Bucket</th>\n",
              "      <th>train</th>\n",
              "      <th>index</th>\n",
              "    </tr>\n",
              "  </thead>\n",
              "  <tbody>\n",
              "    <tr>\n",
              "      <th>0</th>\n",
              "      <td>Delhi</td>\n",
              "      <td>2015-01-01 01:00:00</td>\n",
              "      <td>454.6</td>\n",
              "      <td>935.2</td>\n",
              "      <td>81.5</td>\n",
              "      <td>41.8</td>\n",
              "      <td>187.7</td>\n",
              "      <td>27.5</td>\n",
              "      <td>9.3</td>\n",
              "      <td>3.4</td>\n",
              "      <td>54.9</td>\n",
              "      <td>25.2</td>\n",
              "      <td>58.6</td>\n",
              "      <td>13.8</td>\n",
              "      <td>2.0</td>\n",
              "      <td>1</td>\n",
              "      <td>311301</td>\n",
              "    </tr>\n",
              "    <tr>\n",
              "      <th>1</th>\n",
              "      <td>Delhi</td>\n",
              "      <td>2015-01-01 02:00:00</td>\n",
              "      <td>440.4</td>\n",
              "      <td>119.1</td>\n",
              "      <td>70.8</td>\n",
              "      <td>43.5</td>\n",
              "      <td>176.8</td>\n",
              "      <td>27.7</td>\n",
              "      <td>13.3</td>\n",
              "      <td>3.9</td>\n",
              "      <td>50.5</td>\n",
              "      <td>23.1</td>\n",
              "      <td>49.4</td>\n",
              "      <td>15.6</td>\n",
              "      <td>2.0</td>\n",
              "      <td>0</td>\n",
              "      <td>200618</td>\n",
              "    </tr>\n",
              "    <tr>\n",
              "      <th>2</th>\n",
              "      <td>Delhi</td>\n",
              "      <td>2015-01-01 03:00:00</td>\n",
              "      <td>409.1</td>\n",
              "      <td>119.1</td>\n",
              "      <td>132.5</td>\n",
              "      <td>41.2</td>\n",
              "      <td>141.0</td>\n",
              "      <td>28.9</td>\n",
              "      <td>29.7</td>\n",
              "      <td>2.8</td>\n",
              "      <td>19.3</td>\n",
              "      <td>19.0</td>\n",
              "      <td>38.9</td>\n",
              "      <td>17.2</td>\n",
              "      <td>5.0</td>\n",
              "      <td>1</td>\n",
              "      <td>100152</td>\n",
              "    </tr>\n",
              "    <tr>\n",
              "      <th>3</th>\n",
              "      <td>Delhi</td>\n",
              "      <td>2015-01-01 04:00:00</td>\n",
              "      <td>436.1</td>\n",
              "      <td>119.1</td>\n",
              "      <td>84.8</td>\n",
              "      <td>39.6</td>\n",
              "      <td>102.8</td>\n",
              "      <td>29.3</td>\n",
              "      <td>21.8</td>\n",
              "      <td>2.8</td>\n",
              "      <td>20.1</td>\n",
              "      <td>14.0</td>\n",
              "      <td>27.5</td>\n",
              "      <td>16.8</td>\n",
              "      <td>3.0</td>\n",
              "      <td>1</td>\n",
              "      <td>63324</td>\n",
              "    </tr>\n",
              "    <tr>\n",
              "      <th>4</th>\n",
              "      <td>Delhi</td>\n",
              "      <td>2015-01-01 05:00:00</td>\n",
              "      <td>415.9</td>\n",
              "      <td>977.0</td>\n",
              "      <td>60.2</td>\n",
              "      <td>37.4</td>\n",
              "      <td>80.1</td>\n",
              "      <td>30.8</td>\n",
              "      <td>26.2</td>\n",
              "      <td>6.2</td>\n",
              "      <td>16.0</td>\n",
              "      <td>11.1</td>\n",
              "      <td>22.0</td>\n",
              "      <td>14.3</td>\n",
              "      <td>0.0</td>\n",
              "      <td>1</td>\n",
              "      <td>396852</td>\n",
              "    </tr>\n",
              "    <tr>\n",
              "      <th>...</th>\n",
              "      <td>...</td>\n",
              "      <td>...</td>\n",
              "      <td>...</td>\n",
              "      <td>...</td>\n",
              "      <td>...</td>\n",
              "      <td>...</td>\n",
              "      <td>...</td>\n",
              "      <td>...</td>\n",
              "      <td>...</td>\n",
              "      <td>...</td>\n",
              "      <td>...</td>\n",
              "      <td>...</td>\n",
              "      <td>...</td>\n",
              "      <td>...</td>\n",
              "      <td>...</td>\n",
              "      <td>...</td>\n",
              "      <td>...</td>\n",
              "    </tr>\n",
              "    <tr>\n",
              "      <th>707870</th>\n",
              "      <td>Ernakulam</td>\n",
              "      <td>2020-06-30 20:00:00</td>\n",
              "      <td>12.0</td>\n",
              "      <td>39.1</td>\n",
              "      <td>3.5</td>\n",
              "      <td>2.4</td>\n",
              "      <td>2.2</td>\n",
              "      <td>2.6</td>\n",
              "      <td>2.7</td>\n",
              "      <td>2.7</td>\n",
              "      <td>34.8</td>\n",
              "      <td>0.0</td>\n",
              "      <td>0.0</td>\n",
              "      <td>0.0</td>\n",
              "      <td>1.0</td>\n",
              "      <td>1</td>\n",
              "      <td>165758</td>\n",
              "    </tr>\n",
              "    <tr>\n",
              "      <th>707871</th>\n",
              "      <td>Ernakulam</td>\n",
              "      <td>2020-06-30 21:00:00</td>\n",
              "      <td>13.1</td>\n",
              "      <td>43.4</td>\n",
              "      <td>2.8</td>\n",
              "      <td>2.4</td>\n",
              "      <td>1.7</td>\n",
              "      <td>1.6</td>\n",
              "      <td>2.8</td>\n",
              "      <td>2.7</td>\n",
              "      <td>34.8</td>\n",
              "      <td>0.0</td>\n",
              "      <td>0.0</td>\n",
              "      <td>0.0</td>\n",
              "      <td>5.0</td>\n",
              "      <td>1</td>\n",
              "      <td>406827</td>\n",
              "    </tr>\n",
              "    <tr>\n",
              "      <th>707872</th>\n",
              "      <td>Ernakulam</td>\n",
              "      <td>2020-06-30 22:00:00</td>\n",
              "      <td>17.0</td>\n",
              "      <td>54.8</td>\n",
              "      <td>2.6</td>\n",
              "      <td>2.4</td>\n",
              "      <td>1.6</td>\n",
              "      <td>1.4</td>\n",
              "      <td>2.5</td>\n",
              "      <td>2.7</td>\n",
              "      <td>34.8</td>\n",
              "      <td>0.0</td>\n",
              "      <td>0.0</td>\n",
              "      <td>0.0</td>\n",
              "      <td>5.0</td>\n",
              "      <td>0</td>\n",
              "      <td>13064</td>\n",
              "    </tr>\n",
              "    <tr>\n",
              "      <th>707873</th>\n",
              "      <td>Ernakulam</td>\n",
              "      <td>2020-06-30 23:00:00</td>\n",
              "      <td>14.8</td>\n",
              "      <td>46.0</td>\n",
              "      <td>2.6</td>\n",
              "      <td>2.4</td>\n",
              "      <td>1.6</td>\n",
              "      <td>1.5</td>\n",
              "      <td>2.2</td>\n",
              "      <td>2.4</td>\n",
              "      <td>34.8</td>\n",
              "      <td>0.0</td>\n",
              "      <td>0.0</td>\n",
              "      <td>0.0</td>\n",
              "      <td>1.0</td>\n",
              "      <td>1</td>\n",
              "      <td>43432</td>\n",
              "    </tr>\n",
              "    <tr>\n",
              "      <th>707874</th>\n",
              "      <td>Ernakulam</td>\n",
              "      <td>2020-07-01 00:00:00</td>\n",
              "      <td>5.9</td>\n",
              "      <td>13.9</td>\n",
              "      <td>2.6</td>\n",
              "      <td>2.4</td>\n",
              "      <td>1.6</td>\n",
              "      <td>1.4</td>\n",
              "      <td>2.1</td>\n",
              "      <td>2.7</td>\n",
              "      <td>34.8</td>\n",
              "      <td>0.0</td>\n",
              "      <td>0.0</td>\n",
              "      <td>0.0</td>\n",
              "      <td>3.0</td>\n",
              "      <td>1</td>\n",
              "      <td>142565</td>\n",
              "    </tr>\n",
              "  </tbody>\n",
              "</table>\n",
              "<p>707875 rows × 17 columns</p>\n",
              "</div>\n",
              "      <button class=\"colab-df-convert\" onclick=\"convertToInteractive('df-8cbcd717-5a7b-4650-9701-c410728ae8b0')\"\n",
              "              title=\"Convert this dataframe to an interactive table.\"\n",
              "              style=\"display:none;\">\n",
              "        \n",
              "  <svg xmlns=\"http://www.w3.org/2000/svg\" height=\"24px\"viewBox=\"0 0 24 24\"\n",
              "       width=\"24px\">\n",
              "    <path d=\"M0 0h24v24H0V0z\" fill=\"none\"/>\n",
              "    <path d=\"M18.56 5.44l.94 2.06.94-2.06 2.06-.94-2.06-.94-.94-2.06-.94 2.06-2.06.94zm-11 1L8.5 8.5l.94-2.06 2.06-.94-2.06-.94L8.5 2.5l-.94 2.06-2.06.94zm10 10l.94 2.06.94-2.06 2.06-.94-2.06-.94-.94-2.06-.94 2.06-2.06.94z\"/><path d=\"M17.41 7.96l-1.37-1.37c-.4-.4-.92-.59-1.43-.59-.52 0-1.04.2-1.43.59L10.3 9.45l-7.72 7.72c-.78.78-.78 2.05 0 2.83L4 21.41c.39.39.9.59 1.41.59.51 0 1.02-.2 1.41-.59l7.78-7.78 2.81-2.81c.8-.78.8-2.07 0-2.86zM5.41 20L4 18.59l7.72-7.72 1.47 1.35L5.41 20z\"/>\n",
              "  </svg>\n",
              "      </button>\n",
              "      \n",
              "  <style>\n",
              "    .colab-df-container {\n",
              "      display:flex;\n",
              "      flex-wrap:wrap;\n",
              "      gap: 12px;\n",
              "    }\n",
              "\n",
              "    .colab-df-convert {\n",
              "      background-color: #E8F0FE;\n",
              "      border: none;\n",
              "      border-radius: 50%;\n",
              "      cursor: pointer;\n",
              "      display: none;\n",
              "      fill: #1967D2;\n",
              "      height: 32px;\n",
              "      padding: 0 0 0 0;\n",
              "      width: 32px;\n",
              "    }\n",
              "\n",
              "    .colab-df-convert:hover {\n",
              "      background-color: #E2EBFA;\n",
              "      box-shadow: 0px 1px 2px rgba(60, 64, 67, 0.3), 0px 1px 3px 1px rgba(60, 64, 67, 0.15);\n",
              "      fill: #174EA6;\n",
              "    }\n",
              "\n",
              "    [theme=dark] .colab-df-convert {\n",
              "      background-color: #3B4455;\n",
              "      fill: #D2E3FC;\n",
              "    }\n",
              "\n",
              "    [theme=dark] .colab-df-convert:hover {\n",
              "      background-color: #434B5C;\n",
              "      box-shadow: 0px 1px 3px 1px rgba(0, 0, 0, 0.15);\n",
              "      filter: drop-shadow(0px 1px 2px rgba(0, 0, 0, 0.3));\n",
              "      fill: #FFFFFF;\n",
              "    }\n",
              "  </style>\n",
              "\n",
              "      <script>\n",
              "        const buttonEl =\n",
              "          document.querySelector('#df-8cbcd717-5a7b-4650-9701-c410728ae8b0 button.colab-df-convert');\n",
              "        buttonEl.style.display =\n",
              "          google.colab.kernel.accessAllowed ? 'block' : 'none';\n",
              "\n",
              "        async function convertToInteractive(key) {\n",
              "          const element = document.querySelector('#df-8cbcd717-5a7b-4650-9701-c410728ae8b0');\n",
              "          const dataTable =\n",
              "            await google.colab.kernel.invokeFunction('convertToInteractive',\n",
              "                                                     [key], {});\n",
              "          if (!dataTable) return;\n",
              "\n",
              "          const docLinkHtml = 'Like what you see? Visit the ' +\n",
              "            '<a target=\"_blank\" href=https://colab.research.google.com/notebooks/data_table.ipynb>data table notebook</a>'\n",
              "            + ' to learn more about interactive tables.';\n",
              "          element.innerHTML = '';\n",
              "          dataTable['output_type'] = 'display_data';\n",
              "          await google.colab.output.renderOutput(dataTable, element);\n",
              "          const docLink = document.createElement('div');\n",
              "          docLink.innerHTML = docLinkHtml;\n",
              "          element.appendChild(docLink);\n",
              "        }\n",
              "      </script>\n",
              "    </div>\n",
              "  </div>\n",
              "  "
            ]
          },
          "metadata": {},
          "execution_count": 15
        }
      ],
      "source": [
        "DF"
      ]
    },
    {
      "cell_type": "code",
      "execution_count": null,
      "metadata": {
        "id": "kouj9V1GNh2v"
      },
      "outputs": [],
      "source": [
        "submission = pd.read_csv('/content/drive/MyDrive/machine_hack/aqi/submission.csv')\n",
        "submission['AQI_Bucket'] = df1.AQI_Bucket\n",
        "submission.to_csv('/content/drive/MyDrive/machine_hack/aqi/submission11.csv',index=False)"
      ]
    },
    {
      "cell_type": "code",
      "execution_count": null,
      "metadata": {
        "colab": {
          "base_uri": "https://localhost:8080/",
          "height": 89
        },
        "id": "dxMf0-55P2zd",
        "outputId": "8f1ffdec-c54a-4b73-ff74-59de4e5e06a0"
      },
      "outputs": [
        {
          "data": {
            "application/vnd.google.colaboratory.intrinsic+json": {
              "type": "string"
            },
            "text/plain": [
              "\"DF.loc[DF['PM2.5'].isnull(),'PM2.5'] = df[df.City==DF[DF['PM2.5'].isnull()].City.iloc[0]]['PM2.5'].mean()\\nDF.loc[DF['NO'].isnull(),'NO'] = df[df.City==DF[DF['NO'].isnull()].City.iloc[0]]['NO'].mean()\\nDF.loc[DF['NH3'].isnull(),'NH3'] = df[df.City==DF[DF['NH3'].isnull()].City.iloc[0]]['NH3'].mean()\\nDF.loc[DF['O3'].isnull(),'O3'] = df[df.City==DF[DF['O3'].isnull()].City.iloc[0]]['O3'].mean()\\nDF.loc[DF['Toluene'].isnull(),'Toluene'] = df[df.City==DF[DF['Toluene'].isnull()].City.iloc[0]]['Toluene'].mean()\\nDF.loc[DF['Xylene'].isnull(),'Xylene'] = df[df.City==DF[DF['Xylene'].isnull()].City.iloc[0]]['Xylene'].mean()\""
            ]
          },
          "execution_count": 18,
          "metadata": {},
          "output_type": "execute_result"
        }
      ],
      "source": [
        "\"\"\"DF.loc[DF['PM2.5'].isnull(),'PM2.5'] = df[df.City==DF[DF['PM2.5'].isnull()].City.iloc[0]]['PM2.5'].mean()\n",
        "DF.loc[DF['NO'].isnull(),'NO'] = df[df.City==DF[DF['NO'].isnull()].City.iloc[0]]['NO'].mean()\n",
        "DF.loc[DF['NH3'].isnull(),'NH3'] = df[df.City==DF[DF['NH3'].isnull()].City.iloc[0]]['NH3'].mean()\n",
        "DF.loc[DF['O3'].isnull(),'O3'] = df[df.City==DF[DF['O3'].isnull()].City.iloc[0]]['O3'].mean()\n",
        "DF.loc[DF['Toluene'].isnull(),'Toluene'] = df[df.City==DF[DF['Toluene'].isnull()].City.iloc[0]]['Toluene'].mean()\n",
        "DF.loc[DF['Xylene'].isnull(),'Xylene'] = df[df.City==DF[DF['Xylene'].isnull()].City.iloc[0]]['Xylene'].mean()\"\"\""
      ]
    },
    {
      "cell_type": "code",
      "execution_count": null,
      "metadata": {
        "id": "GJ8mdhDQTcnF"
      },
      "outputs": [],
      "source": [
        "DF['year'] = DF.Datetime.dt.year\n",
        "DF['month'] = DF.Datetime.dt.month\n",
        "DF['day'] = DF.Datetime.dt.day\n",
        "DF['dayofweek'] = DF.Datetime.dt.dayofweek\n",
        "DF['weekend'] = DF.dayofweek.apply(lambda x: '0' if x<5 else '1')\n",
        "DF['hour'] = DF.Datetime.dt.hour\n",
        "DF.year = DF.year.apply(lambda x: x-2015)+1"
      ]
    },
    {
      "cell_type": "code",
      "execution_count": null,
      "metadata": {
        "id": "2VOmTv9s9dGx"
      },
      "outputs": [],
      "source": [
        "DF = DF.drop(['Datetime'],axis=1)"
      ]
    },
    {
      "cell_type": "code",
      "execution_count": null,
      "metadata": {
        "id": "GSiZib3bh33f"
      },
      "outputs": [],
      "source": [
        "df = DF[DF.train==1]\n",
        "df1= DF[DF.train==0]"
      ]
    },
    {
      "cell_type": "code",
      "execution_count": null,
      "metadata": {
        "id": "zBox3QQXpwD_"
      },
      "outputs": [],
      "source": [
        "df = df.drop(['index','train'],axis=1)\n",
        "df1 =df1.drop(['index','train'],axis=1)"
      ]
    },
    {
      "cell_type": "code",
      "source": [
        "from google.colab import drive\n",
        "drive.mount('/content/drive')"
      ],
      "metadata": {
        "colab": {
          "base_uri": "https://localhost:8080/"
        },
        "id": "JKEMd4bE_vRy",
        "outputId": "83b075e3-5ebf-41c4-b1dd-35395a964068"
      },
      "execution_count": null,
      "outputs": [
        {
          "output_type": "stream",
          "name": "stdout",
          "text": [
            "Drive already mounted at /content/drive; to attempt to forcibly remount, call drive.mount(\"/content/drive\", force_remount=True).\n"
          ]
        }
      ]
    },
    {
      "cell_type": "code",
      "execution_count": null,
      "metadata": {
        "colab": {
          "base_uri": "https://localhost:8080/"
        },
        "id": "1_kL2nBIG5o8",
        "outputId": "e238c821-a6cd-4b8f-c134-c098a867a503"
      },
      "outputs": [
        {
          "name": "stdout",
          "output_type": "stream",
          "text": [
            "<class 'pandas.core.frame.DataFrame'>\n",
            "Int64Index: 495512 entries, 0 to 707874\n",
            "Data columns (total 20 columns):\n",
            " #   Column      Non-Null Count   Dtype  \n",
            "---  ------      --------------   -----  \n",
            " 0   City        495512 non-null  object \n",
            " 1   PM2.5       495512 non-null  float64\n",
            " 2   PM10        495512 non-null  float64\n",
            " 3   NO          495512 non-null  float64\n",
            " 4   NO2         495512 non-null  float64\n",
            " 5   NOx         495512 non-null  float64\n",
            " 6   NH3         495512 non-null  float64\n",
            " 7   CO          495512 non-null  float64\n",
            " 8   SO2         495512 non-null  float64\n",
            " 9   O3          495512 non-null  float64\n",
            " 10  Benzene     495512 non-null  float64\n",
            " 11  Toluene     495512 non-null  float64\n",
            " 12  Xylene      495512 non-null  float64\n",
            " 13  AQI_Bucket  495512 non-null  float64\n",
            " 14  year        495512 non-null  int64  \n",
            " 15  month       495512 non-null  int64  \n",
            " 16  day         495512 non-null  int64  \n",
            " 17  dayofweek   495512 non-null  int64  \n",
            " 18  weekend     495512 non-null  object \n",
            " 19  hour        495512 non-null  int64  \n",
            "dtypes: float64(13), int64(5), object(2)\n",
            "memory usage: 79.4+ MB\n"
          ]
        }
      ],
      "source": [
        "df.info()"
      ]
    },
    {
      "cell_type": "code",
      "execution_count": null,
      "metadata": {
        "id": "DxaUfHu8IR7f"
      },
      "outputs": [],
      "source": [
        "df['hour_Cos'] = np.cos(2*np.pi*df['hour']/df['hour'].max())\n",
        "df['hour_Sin'] = np.sin(2*np.pi*df['hour']/df['hour'].max())\n",
        "df1['hour_Cos'] = np.cos(2*np.pi*df1['hour']/df1['hour'].max())\n",
        "df1['hour_Sin'] = np.sin(2*np.pi*df1['hour']/df1['hour'].max())"
      ]
    },
    {
      "cell_type": "code",
      "execution_count": null,
      "metadata": {
        "id": "nEWs81YAIqYi"
      },
      "outputs": [],
      "source": [
        "df['month_Cos'] = np.cos(2*np.pi*df['month']/df['month'].max())\n",
        "df['month_Sin'] = np.sin(2*np.pi*df['month']/df['month'].max())\n",
        "df1['month_Cos'] = np.cos(2*np.pi*df1['month']/df1['month'].max())\n",
        "df1['month_Sin'] = np.sin(2*np.pi*df1['month']/df1['month'].max())"
      ]
    },
    {
      "cell_type": "code",
      "execution_count": null,
      "metadata": {
        "id": "cbyprAsNISH5"
      },
      "outputs": [],
      "source": [
        "df['NO_bins'] = df.NO.apply(lambda x: '0' if x<500 else '1')\n",
        "df1['NO_bins'] = df1.NO.apply(lambda x: '0' if x<500 else '1')"
      ]
    },
    {
      "cell_type": "code",
      "execution_count": null,
      "metadata": {
        "id": "SdG5hLZXItDT"
      },
      "outputs": [],
      "source": [
        "df['NO2_bins'] = df.NO2.apply(lambda x: '0' if x<500 else '1')\n",
        "df1['NO2_bins'] = df1.NO2.apply(lambda x: '0' if x<500 else '1')"
      ]
    },
    {
      "cell_type": "code",
      "execution_count": null,
      "metadata": {
        "id": "pukpWm_ZItGU"
      },
      "outputs": [],
      "source": [
        "df['NOx_bins'] = df.NOx.apply(lambda x: '0' if x<500 else '1')\n",
        "df1['NOx_bins'] = df1.NOx.apply(lambda x: '0' if x<500 else '1')"
      ]
    },
    {
      "cell_type": "code",
      "execution_count": null,
      "metadata": {
        "id": "TXXpsmUTItNQ"
      },
      "outputs": [],
      "source": [
        "df['NH3_bins'] = df.NH3.apply(lambda x: '0' if x<500 else '1')\n",
        "df1['NH3_bins'] = df1.NH3.apply(lambda x: '0' if x<500 else '1')"
      ]
    },
    {
      "cell_type": "code",
      "execution_count": null,
      "metadata": {
        "id": "3EwHsNhPItQq"
      },
      "outputs": [],
      "source": [
        "df['CO_bins'] = df.CO.apply(lambda x: '0' if x<500 else '1')\n",
        "df1['CO_bins'] = df1.CO.apply(lambda x: '0' if x<500 else '1')"
      ]
    },
    {
      "cell_type": "code",
      "execution_count": null,
      "metadata": {
        "id": "udNkpPU0JA8T"
      },
      "outputs": [],
      "source": [
        "bins = [-1,300,400,600]\n",
        "labels = ['0', '1', '2']\n",
        "df['O3_bins'] = pd.cut(df.O3,bins=bins,labels=labels).astype('object')\n",
        "df1['O3_bins'] = pd.cut(df1.O3,bins=bins,labels=labels).astype('object')"
      ]
    },
    {
      "cell_type": "code",
      "execution_count": null,
      "metadata": {
        "id": "migkWPoZJBAO"
      },
      "outputs": [],
      "source": [
        "df['Benzene_bins'] = df.Benzene.apply(lambda x: '0' if x<500 else '1')\n",
        "df1['Benzene_bins'] = df1.Benzene.apply(lambda x: '0' if x<500 else '1')"
      ]
    },
    {
      "cell_type": "code",
      "execution_count": null,
      "metadata": {
        "id": "Levb7JfqJBHX"
      },
      "outputs": [],
      "source": [
        "bins = [-1,200,300,400,600]\n",
        "labels = ['0', '1', '2','3']\n",
        "df['Xylene_bins'] = pd.cut(df.Xylene,bins=bins,labels=labels).astype('object')\n",
        "df1['Xylene_bins'] = pd.cut(df1.Xylene,bins=bins,labels=labels).astype('object')"
      ]
    },
    {
      "cell_type": "code",
      "execution_count": null,
      "metadata": {
        "id": "GN3eV3dKJBMW"
      },
      "outputs": [],
      "source": [
        "df['Toluene_bins'] = df.Toluene.apply(lambda x: '0' if x<500 else '1')\n",
        "df1['Toluene_bins'] = df1.Toluene.apply(lambda x: '0' if x<500 else '1')"
      ]
    },
    {
      "cell_type": "code",
      "execution_count": null,
      "metadata": {
        "id": "axGry4Q1KjET"
      },
      "outputs": [],
      "source": [
        "#df['PM_ratio'] = df['PM10']/df['PM2.5']\n",
        "#df1['PM_ratio'] = df1['PM10']/df['PM2.5']"
      ]
    },
    {
      "cell_type": "code",
      "execution_count": null,
      "metadata": {
        "id": "zLZcK5d_JBQU"
      },
      "outputs": [],
      "source": [
        "num = ['PM2.5', 'PM10', 'NO', 'NO2', 'NOx', 'NH3', 'CO', 'SO2', 'O3','Benzene', 'Toluene', 'Xylene','hour_Cos','hour_Sin','month_Cos','month_Sin','year','month','day','dayofweek','hour']\n",
        "nom = ['City','weekend','NO_bins', 'NO2_bins', 'NOx_bins', 'NH3_bins', 'CO_bins','O3_bins', 'Benzene_bins', 'Xylene_bins', 'Toluene_bins']"
      ]
    },
    {
      "cell_type": "code",
      "execution_count": null,
      "metadata": {
        "id": "jq1dbExPJBTB"
      },
      "outputs": [],
      "source": [
        "X_num = df[num]\n",
        "X_nom = df[nom]\n",
        "X1_num = df1[num]\n",
        "X1_nom = df1[nom]"
      ]
    },
    {
      "cell_type": "code",
      "execution_count": null,
      "metadata": {
        "id": "bOYU_dkxKE1Q"
      },
      "outputs": [],
      "source": [
        "y = df['AQI_Bucket']"
      ]
    },
    {
      "cell_type": "code",
      "execution_count": null,
      "metadata": {
        "colab": {
          "base_uri": "https://localhost:8080/",
          "height": 806
        },
        "id": "Pp1xgqp3J0yA",
        "outputId": "36277400-1417-410a-8cee-e11b333e9962"
      },
      "outputs": [
        {
          "output_type": "stream",
          "name": "stdout",
          "text": [
            "Feature 0: 1.260523\n",
            "Feature 1: 1.342071\n",
            "Feature 2: 1.078460\n",
            "Feature 3: 1.410852\n",
            "Feature 4: 1.319329\n",
            "Feature 5: 1.430195\n",
            "Feature 6: 1.153120\n",
            "Feature 7: 0.783389\n",
            "Feature 8: 0.329283\n",
            "Feature 9: 1.784147\n",
            "Feature 10: 1.324036\n",
            "Feature 11: 0.762575\n",
            "Feature 12: 1.301291\n",
            "Feature 13: 0.941548\n",
            "Feature 14: 1.038632\n",
            "Feature 15: 0.663811\n",
            "Feature 16: 0.556357\n",
            "Feature 17: 0.777371\n",
            "Feature 18: 0.801707\n",
            "Feature 19: 0.482908\n",
            "Feature 20: 0.689578\n"
          ]
        },
        {
          "output_type": "display_data",
          "data": {
            "text/plain": [
              "<Figure size 640x480 with 1 Axes>"
            ],
            "image/png": "[encoded data removed]"
          },
          "metadata": {}
        }
      ],
      "source": [
        "# ANOVA F-Test : Selecting Categorical Features for Num Targets OR Numerical Features For Categorical Targets\n",
        "from sklearn.preprocessing import OrdinalEncoder\n",
        "from sklearn.feature_selection import SelectKBest\n",
        "from sklearn.feature_selection import f_classif\n",
        "fs = SelectKBest(score_func=f_classif, k='all')\n",
        "fs.fit(X_num, y)\n",
        "X_num_fs = fs.transform(X_num)\n",
        "X1_num_fs = fs.transform(X1_num)\n",
        "for i in range(len(fs.scores_)):\n",
        "    print('Feature %d: %f' % (i, fs.scores_[i]))\n",
        "plt.bar([i for i in range(len(fs.scores_))], fs.scores_)\n",
        "plt.show()"
      ]
    },
    {
      "cell_type": "code",
      "execution_count": null,
      "metadata": {
        "id": "Mo5o09tcJ01u"
      },
      "outputs": [],
      "source": [
        "#X_num_fs = X_num[['PM2.5', 'PM10', 'NO', 'NO2', 'NOx', 'NH3', 'CO','O3','Benzene', 'Toluene','hour_Cos','year','day','dayofweek']]\n",
        "#X1_num_fs = X1_num[['PM2.5', 'PM10', 'NO', 'NO2', 'NOx', 'NH3', 'CO','O3','Benzene', 'Toluene','hour_Cos','year','day','dayofweek']]"
      ]
    },
    {
      "cell_type": "code",
      "execution_count": null,
      "metadata": {
        "colab": {
          "base_uri": "https://localhost:8080/",
          "height": 716
        },
        "id": "VDBv4LhkFRCr",
        "outputId": "f7be5e41-5723-448c-bec6-c4161103886d"
      },
      "outputs": [
        {
          "output_type": "stream",
          "name": "stderr",
          "text": [
            "/usr/local/lib/python3.9/dist-packages/sklearn/base.py:432: UserWarning: X has feature names, but SelectKBest was fitted without feature names\n",
            "  warnings.warn(\n",
            "/usr/local/lib/python3.9/dist-packages/sklearn/base.py:432: UserWarning: X has feature names, but SelectKBest was fitted without feature names\n",
            "  warnings.warn(\n"
          ]
        },
        {
          "output_type": "stream",
          "name": "stdout",
          "text": [
            "(495512, 4) (212363, 4)\n",
            "Feature 0: 42.168707\n",
            "Feature 1: 0.534944\n",
            "Feature 2: 5.966973\n",
            "Feature 3: nan\n",
            "Feature 4: nan\n",
            "Feature 5: nan\n",
            "Feature 6: nan\n",
            "Feature 7: 4.957103\n",
            "Feature 8: nan\n",
            "Feature 9: 4.385292\n",
            "Feature 10: nan\n"
          ]
        },
        {
          "output_type": "display_data",
          "data": {
            "text/plain": [
              "<Figure size 640x480 with 1 Axes>"
            ],
            "image/png": "[encoded data removed]"
          },
          "metadata": {}
        }
      ],
      "source": [
        "# Chi Squared feature selection : Selecting Categorical(Nominal) Features for Categorical targets\n",
        "from sklearn.feature_selection import SelectKBest\n",
        "from sklearn.feature_selection import chi2\n",
        "from sklearn.preprocessing import OrdinalEncoder\n",
        "oe = OrdinalEncoder()\n",
        "# convert features to string\n",
        "oe.fit(pd.concat([X_nom,X1_nom],axis=0))\n",
        "X_nom_oe = oe.transform(X_nom)\n",
        "X1_nom_oe = oe.transform(X1_nom)\n",
        "# feature selection\n",
        "fs_nom = SelectKBest(score_func=chi2, k=4)\n",
        "fs_nom.fit(X_nom_oe, y)\n",
        "X_nom_fs = fs_nom.transform(X_nom)\n",
        "X1_nom_fs = fs_nom.transform(X1_nom)\n",
        "print(X_nom_fs.shape,X1_nom_fs.shape)\n",
        "# what are scores for the features\n",
        "for i in range(len(fs_nom.scores_)):\n",
        "    print('Feature %d: %f' % (i, fs_nom.scores_[i]))\n",
        "# plot the scores\n",
        "plt.bar([i for i in range(len(fs_nom.scores_))], fs_nom.scores_)\n",
        "plt.show()\n"
      ]
    },
    {
      "cell_type": "code",
      "execution_count": null,
      "metadata": {
        "colab": {
          "base_uri": "https://localhost:8080/"
        },
        "id": "CbuXiFPMGQsD",
        "outputId": "8b0e5175-69cc-4863-f431-ab6d4d642cdf"
      },
      "outputs": [
        {
          "output_type": "stream",
          "name": "stderr",
          "text": [
            "/usr/local/lib/python3.9/dist-packages/sklearn/preprocessing/_encoders.py:868: FutureWarning: `sparse` was renamed to `sparse_output` in version 1.2 and will be removed in 1.4. `sparse_output` is ignored unless you leave `sparse` to its default value.\n",
            "  warnings.warn(\n"
          ]
        },
        {
          "output_type": "stream",
          "name": "stdout",
          "text": [
            "(495512, 31) (212363, 31)\n"
          ]
        }
      ],
      "source": [
        "from sklearn.preprocessing import OneHotEncoder\n",
        "oh1 = OneHotEncoder(sparse=False,drop='first')\n",
        "oh1.fit(np.concatenate([X_nom_fs,X1_nom_fs],axis=0))\n",
        "X_nom_ohe = oh1.transform(X_nom_fs)\n",
        "X1_nom_ohe = oh1.transform(X1_nom_fs)\n",
        "print(X_nom_ohe.shape, X1_nom_ohe.shape)"
      ]
    },
    {
      "cell_type": "code",
      "execution_count": null,
      "metadata": {
        "colab": {
          "base_uri": "https://localhost:8080/"
        },
        "id": "1KworpP3GRK_",
        "outputId": "8fa143b8-eae9-42de-b605-5a528028a863"
      },
      "outputs": [
        {
          "output_type": "stream",
          "name": "stdout",
          "text": [
            "(495512, 52) (212363, 52)\n"
          ]
        }
      ],
      "source": [
        "X_final = np.concatenate([X_num_fs,X_nom_ohe],axis=1)\n",
        "X1_final = np.concatenate([X1_num_fs,X1_nom_ohe],axis=1)\n",
        "print(X_final.shape, X1_final.shape)"
      ]
    },
    {
      "cell_type": "code",
      "source": [
        "# Train Val Test Split\n",
        "val_split = int(0.80*(X_final.shape[0]))\n",
        "X_train = X_final[:val_split]\n",
        "y_train = y[:val_split]\n",
        "X_val = X_final[val_split:]\n",
        "y_val = y[val_split:]\n",
        "print(X_train.shape,X_val.shape,y_train.shape,y_val.shape)"
      ],
      "metadata": {
        "colab": {
          "base_uri": "https://localhost:8080/"
        },
        "id": "Vhmi1G4cWTWK",
        "outputId": "2d7cb4f9-4f0f-4bfa-e5a3-92711c54e8ef"
      },
      "execution_count": null,
      "outputs": [
        {
          "output_type": "stream",
          "name": "stdout",
          "text": [
            "(396409, 52) (99103, 52) (396409,) (99103,)\n"
          ]
        }
      ]
    },
    {
      "cell_type": "code",
      "source": [
        "\"\"\"max = X_train.max(axis=0)\n",
        "min = X_train.min(axis=0)\n",
        "X_train_norm = (X_train-min)/(max-min)\n",
        "X_val_norm = (X_val-min)/(max-min)\n",
        "print(X_train_norm.shape,X_val_norm.shape)\"\"\""
      ],
      "metadata": {
        "colab": {
          "base_uri": "https://localhost:8080/",
          "height": 36
        },
        "id": "wZcILclqadaP",
        "outputId": "a2ad83ba-e9b6-4089-dea3-2d7460fd2e41"
      },
      "execution_count": null,
      "outputs": [
        {
          "output_type": "execute_result",
          "data": {
            "text/plain": [
              "'max = X_train.max(axis=0)\\nmin = X_train.min(axis=0)\\nX_train_norm = (X_train-min)/(max-min)\\nX_val_norm = (X_val-min)/(max-min)\\nprint(X_train_norm.shape,X_val_norm.shape)'"
            ],
            "application/vnd.google.colaboratory.intrinsic+json": {
              "type": "string"
            }
          },
          "metadata": {},
          "execution_count": 99
        }
      ]
    },
    {
      "cell_type": "code",
      "source": [
        "past=6\n",
        "future=1"
      ],
      "metadata": {
        "id": "Iat0Lpj4WKCA"
      },
      "execution_count": null,
      "outputs": []
    },
    {
      "cell_type": "code",
      "source": [
        "# Prepare \n",
        "X_train_prep = []\n",
        "y_train_prep = []\n",
        "for i in range(past,(X_train.shape[0]-future+1)):\n",
        "    X_train_prep.append(X_train[i-past:i+1])\n",
        "    y_train_prep.append(y_train[i:i+future])\n",
        "X_train_prep = np.array(X_train_prep)\n",
        "y_train_prep = np.array(y_train_prep).flatten()\n",
        "print(X_train_prep.shape, y_train_prep.shape)"
      ],
      "metadata": {
        "colab": {
          "base_uri": "https://localhost:8080/"
        },
        "id": "YSO2o0sZWTEZ",
        "outputId": "8e7b40a5-f846-457e-f8f9-b599fb7b97c5"
      },
      "execution_count": null,
      "outputs": [
        {
          "output_type": "stream",
          "name": "stdout",
          "text": [
            "(396403, 7, 52) (396403,)\n"
          ]
        }
      ]
    },
    {
      "cell_type": "code",
      "source": [
        "# Prepare \n",
        "X_val_prep = []\n",
        "y_val_prep = []\n",
        "for i in range(past,(X_val.shape[0]-future+1)):\n",
        "    X_val_prep.append(X_val[i-past:i+1])\n",
        "    y_val_prep.append(y_val[i:i+future])\n",
        "X_val_prep = np.array(X_val_prep)\n",
        "y_val_prep = np.array(y_val_prep).flatten()\n",
        "#y_prep = y_prep.reshape(y_prep.shape[0], y_prep.shape[2])\n",
        "print(X_val_prep.shape, y_val_prep.shape)"
      ],
      "metadata": {
        "colab": {
          "base_uri": "https://localhost:8080/"
        },
        "id": "15V77mPoiEIM",
        "outputId": "5604c91e-a211-45eb-d8f5-639899618ccb"
      },
      "execution_count": null,
      "outputs": [
        {
          "output_type": "stream",
          "name": "stdout",
          "text": [
            "(99097, 7, 52) (99097,)\n"
          ]
        }
      ]
    },
    {
      "cell_type": "code",
      "source": [
        "!pip install autokeras"
      ],
      "metadata": {
        "colab": {
          "base_uri": "https://localhost:8080/"
        },
        "id": "-KxTcdAhYqvi",
        "outputId": "9620142c-f21f-4596-c41b-cd238e6458c8"
      },
      "execution_count": null,
      "outputs": [
        {
          "output_type": "stream",
          "name": "stdout",
          "text": [
            "Looking in indexes: https://pypi.org/simple, https://us-python.pkg.dev/colab-wheels/public/simple/\n",
            "Requirement already satisfied: autokeras in /usr/local/lib/python3.9/dist-packages (1.1.0)\n",
            "Requirement already satisfied: pandas in /usr/local/lib/python3.9/dist-packages (from autokeras) (1.5.3)\n",
            "Requirement already satisfied: packaging in /usr/local/lib/python3.9/dist-packages (from autokeras) (23.1)\n",
            "Requirement already satisfied: tensorflow>=2.8.0 in /usr/local/lib/python3.9/dist-packages (from autokeras) (2.12.0)\n",
            "Requirement already satisfied: keras-tuner>=1.1.0 in /usr/local/lib/python3.9/dist-packages (from autokeras) (1.3.5)\n",
            "Requirement already satisfied: keras-nlp>=0.4.0 in /usr/local/lib/python3.9/dist-packages (from autokeras) (0.4.1)\n",
            "Requirement already satisfied: tensorflow-text in /usr/local/lib/python3.9/dist-packages (from keras-nlp>=0.4.0->autokeras) (2.12.1)\n",
            "Requirement already satisfied: absl-py in /usr/local/lib/python3.9/dist-packages (from keras-nlp>=0.4.0->autokeras) (1.4.0)\n",
            "Requirement already satisfied: numpy in /usr/local/lib/python3.9/dist-packages (from keras-nlp>=0.4.0->autokeras) (1.22.4)\n",
            "Requirement already satisfied: kt-legacy in /usr/local/lib/python3.9/dist-packages (from keras-tuner>=1.1.0->autokeras) (1.0.5)\n",
            "Requirement already satisfied: requests in /usr/local/lib/python3.9/dist-packages (from keras-tuner>=1.1.0->autokeras) (2.27.1)\n",
            "Requirement already satisfied: protobuf!=4.21.0,!=4.21.1,!=4.21.2,!=4.21.3,!=4.21.4,!=4.21.5,<5.0.0dev,>=3.20.3 in /usr/local/lib/python3.9/dist-packages (from tensorflow>=2.8.0->autokeras) (3.20.3)\n",
            "Requirement already satisfied: astunparse>=1.6.0 in /usr/local/lib/python3.9/dist-packages (from tensorflow>=2.8.0->autokeras) (1.6.3)\n",
            "Requirement already satisfied: keras<2.13,>=2.12.0 in /usr/local/lib/python3.9/dist-packages (from tensorflow>=2.8.0->autokeras) (2.12.0)\n",
            "Requirement already satisfied: termcolor>=1.1.0 in /usr/local/lib/python3.9/dist-packages (from tensorflow>=2.8.0->autokeras) (2.2.0)\n",
            "Requirement already satisfied: h5py>=2.9.0 in /usr/local/lib/python3.9/dist-packages (from tensorflow>=2.8.0->autokeras) (3.8.0)\n",
            "Requirement already satisfied: tensorboard<2.13,>=2.12 in /usr/local/lib/python3.9/dist-packages (from tensorflow>=2.8.0->autokeras) (2.12.2)\n",
            "Requirement already satisfied: setuptools in /usr/local/lib/python3.9/dist-packages (from tensorflow>=2.8.0->autokeras) (67.6.1)\n",
            "Requirement already satisfied: opt-einsum>=2.3.2 in /usr/local/lib/python3.9/dist-packages (from tensorflow>=2.8.0->autokeras) (3.3.0)\n",
            "Requirement already satisfied: gast<=0.4.0,>=0.2.1 in /usr/local/lib/python3.9/dist-packages (from tensorflow>=2.8.0->autokeras) (0.4.0)\n",
            "Requirement already satisfied: libclang>=13.0.0 in /usr/local/lib/python3.9/dist-packages (from tensorflow>=2.8.0->autokeras) (16.0.0)\n",
            "Requirement already satisfied: flatbuffers>=2.0 in /usr/local/lib/python3.9/dist-packages (from tensorflow>=2.8.0->autokeras) (23.3.3)\n",
            "Requirement already satisfied: six>=1.12.0 in /usr/local/lib/python3.9/dist-packages (from tensorflow>=2.8.0->autokeras) (1.16.0)\n",
            "Requirement already satisfied: google-pasta>=0.1.1 in /usr/local/lib/python3.9/dist-packages (from tensorflow>=2.8.0->autokeras) (0.2.0)\n",
            "Requirement already satisfied: jax>=0.3.15 in /usr/local/lib/python3.9/dist-packages (from tensorflow>=2.8.0->autokeras) (0.4.8)\n",
            "Requirement already satisfied: wrapt<1.15,>=1.11.0 in /usr/local/lib/python3.9/dist-packages (from tensorflow>=2.8.0->autokeras) (1.14.1)\n",
            "Requirement already satisfied: typing-extensions>=3.6.6 in /usr/local/lib/python3.9/dist-packages (from tensorflow>=2.8.0->autokeras) (4.5.0)\n",
            "Requirement already satisfied: tensorflow-estimator<2.13,>=2.12.0 in /usr/local/lib/python3.9/dist-packages (from tensorflow>=2.8.0->autokeras) (2.12.0)\n",
            "Requirement already satisfied: tensorflow-io-gcs-filesystem>=0.23.1 in /usr/local/lib/python3.9/dist-packages (from tensorflow>=2.8.0->autokeras) (0.32.0)\n",
            "Requirement already satisfied: grpcio<2.0,>=1.24.3 in /usr/local/lib/python3.9/dist-packages (from tensorflow>=2.8.0->autokeras) (1.53.0)\n",
            "Requirement already satisfied: pytz>=2020.1 in /usr/local/lib/python3.9/dist-packages (from pandas->autokeras) (2022.7.1)\n",
            "Requirement already satisfied: python-dateutil>=2.8.1 in /usr/local/lib/python3.9/dist-packages (from pandas->autokeras) (2.8.2)\n",
            "Requirement already satisfied: wheel<1.0,>=0.23.0 in /usr/local/lib/python3.9/dist-packages (from astunparse>=1.6.0->tensorflow>=2.8.0->autokeras) (0.40.0)\n",
            "Requirement already satisfied: ml-dtypes>=0.0.3 in /usr/local/lib/python3.9/dist-packages (from jax>=0.3.15->tensorflow>=2.8.0->autokeras) (0.1.0)\n",
            "Requirement already satisfied: scipy>=1.7 in /usr/local/lib/python3.9/dist-packages (from jax>=0.3.15->tensorflow>=2.8.0->autokeras) (1.10.1)\n",
            "Requirement already satisfied: werkzeug>=1.0.1 in /usr/local/lib/python3.9/dist-packages (from tensorboard<2.13,>=2.12->tensorflow>=2.8.0->autokeras) (2.2.3)\n",
            "Requirement already satisfied: tensorboard-data-server<0.8.0,>=0.7.0 in /usr/local/lib/python3.9/dist-packages (from tensorboard<2.13,>=2.12->tensorflow>=2.8.0->autokeras) (0.7.0)\n",
            "Requirement already satisfied: markdown>=2.6.8 in /usr/local/lib/python3.9/dist-packages (from tensorboard<2.13,>=2.12->tensorflow>=2.8.0->autokeras) (3.4.3)\n",
            "Requirement already satisfied: google-auth<3,>=1.6.3 in /usr/local/lib/python3.9/dist-packages (from tensorboard<2.13,>=2.12->tensorflow>=2.8.0->autokeras) (2.17.3)\n",
            "Requirement already satisfied: tensorboard-plugin-wit>=1.6.0 in /usr/local/lib/python3.9/dist-packages (from tensorboard<2.13,>=2.12->tensorflow>=2.8.0->autokeras) (1.8.1)\n",
            "Requirement already satisfied: google-auth-oauthlib<1.1,>=0.5 in /usr/local/lib/python3.9/dist-packages (from tensorboard<2.13,>=2.12->tensorflow>=2.8.0->autokeras) (1.0.0)\n",
            "Requirement already satisfied: urllib3<1.27,>=1.21.1 in /usr/local/lib/python3.9/dist-packages (from requests->keras-tuner>=1.1.0->autokeras) (1.26.15)\n",
            "Requirement already satisfied: charset-normalizer~=2.0.0 in /usr/local/lib/python3.9/dist-packages (from requests->keras-tuner>=1.1.0->autokeras) (2.0.12)\n",
            "Requirement already satisfied: idna<4,>=2.5 in /usr/local/lib/python3.9/dist-packages (from requests->keras-tuner>=1.1.0->autokeras) (3.4)\n",
            "Requirement already satisfied: certifi>=2017.4.17 in /usr/local/lib/python3.9/dist-packages (from requests->keras-tuner>=1.1.0->autokeras) (2022.12.7)\n",
            "Requirement already satisfied: tensorflow-hub>=0.8.0 in /usr/local/lib/python3.9/dist-packages (from tensorflow-text->keras-nlp>=0.4.0->autokeras) (0.13.0)\n",
            "Requirement already satisfied: cachetools<6.0,>=2.0.0 in /usr/local/lib/python3.9/dist-packages (from google-auth<3,>=1.6.3->tensorboard<2.13,>=2.12->tensorflow>=2.8.0->autokeras) (5.3.0)\n",
            "Requirement already satisfied: pyasn1-modules>=0.2.1 in /usr/local/lib/python3.9/dist-packages (from google-auth<3,>=1.6.3->tensorboard<2.13,>=2.12->tensorflow>=2.8.0->autokeras) (0.2.8)\n",
            "Requirement already satisfied: rsa<5,>=3.1.4 in /usr/local/lib/python3.9/dist-packages (from google-auth<3,>=1.6.3->tensorboard<2.13,>=2.12->tensorflow>=2.8.0->autokeras) (4.9)\n",
            "Requirement already satisfied: requests-oauthlib>=0.7.0 in /usr/local/lib/python3.9/dist-packages (from google-auth-oauthlib<1.1,>=0.5->tensorboard<2.13,>=2.12->tensorflow>=2.8.0->autokeras) (1.3.1)\n",
            "Requirement already satisfied: importlib-metadata>=4.4 in /usr/local/lib/python3.9/dist-packages (from markdown>=2.6.8->tensorboard<2.13,>=2.12->tensorflow>=2.8.0->autokeras) (6.4.1)\n",
            "Requirement already satisfied: MarkupSafe>=2.1.1 in /usr/local/lib/python3.9/dist-packages (from werkzeug>=1.0.1->tensorboard<2.13,>=2.12->tensorflow>=2.8.0->autokeras) (2.1.2)\n",
            "Requirement already satisfied: zipp>=0.5 in /usr/local/lib/python3.9/dist-packages (from importlib-metadata>=4.4->markdown>=2.6.8->tensorboard<2.13,>=2.12->tensorflow>=2.8.0->autokeras) (3.15.0)\n",
            "Requirement already satisfied: pyasn1<0.5.0,>=0.4.6 in /usr/local/lib/python3.9/dist-packages (from pyasn1-modules>=0.2.1->google-auth<3,>=1.6.3->tensorboard<2.13,>=2.12->tensorflow>=2.8.0->autokeras) (0.4.8)\n",
            "Requirement already satisfied: oauthlib>=3.0.0 in /usr/local/lib/python3.9/dist-packages (from requests-oauthlib>=0.7.0->google-auth-oauthlib<1.1,>=0.5->tensorboard<2.13,>=2.12->tensorflow>=2.8.0->autokeras) (3.2.2)\n"
          ]
        }
      ]
    },
    {
      "cell_type": "code",
      "source": [
        "# Neural Network : Structured Data (Forward Walk)\n",
        "import autokeras as ak\n",
        "input_layer = ak.Input()\n",
        "conv_layer = ak.ConvBlock()(input_layer)\n",
        "rnn_layer = ak.RNNBlock()(conv_layer)\n",
        "output_layer = ak.RegressionHead()(rnn_layer)\n",
        "model = ak.AutoModel(inputs=input_layer, outputs=output_layer, overwrite=True,max_trials=1,metrics=['msle'])"
      ],
      "metadata": {
        "id": "V3DK6JD4WKLp"
      },
      "execution_count": null,
      "outputs": []
    },
    {
      "cell_type": "code",
      "source": [
        "# Train : Neural Network\n",
        "model.fit(X_train_prep,y_train_prep, validation_data = (X_val_prep, y_val_prep))\n",
        "model = model.export_model()\n",
        "model.summary()"
      ],
      "metadata": {
        "colab": {
          "base_uri": "https://localhost:8080/"
        },
        "id": "inOWtuNWWKTc",
        "outputId": "5c8dcbc4-80f6-404e-f5e8-cdae59f52910"
      },
      "execution_count": null,
      "outputs": [
        {
          "output_type": "stream",
          "name": "stdout",
          "text": [
            "\n",
            "Search: Running Trial #1\n",
            "\n",
            "Value             |Best Value So Far |Hyperparameter\n",
            "3                 |3                 |conv_block_1/kernel_size\n",
            "False             |False             |conv_block_1/separable\n",
            "True              |True              |conv_block_1/max_pooling\n",
            "2                 |2                 |conv_block_1/num_blocks\n",
            "2                 |2                 |conv_block_1/num_layers\n",
            "256               |256               |conv_block_1/filters_0_0\n",
            "32                |32                |conv_block_1/filters_0_1\n",
            "0                 |0                 |conv_block_1/dropout\n",
            "32                |32                |conv_block_1/filters_1_0\n",
            "32                |32                |conv_block_1/filters_1_1\n",
            "True              |True              |rnn_block_1/bidirectional\n",
            "lstm              |lstm              |rnn_block_1/layer_type\n",
            "2                 |2                 |rnn_block_1/num_layers\n",
            "0                 |0                 |regression_head_1/dropout\n",
            "adam              |adam              |optimizer\n",
            "0.001             |0.001             |learning_rate\n",
            "\n",
            "Epoch 1/1000\n",
            "12388/12388 [==============================] - 184s 13ms/step - loss: 4.0196 - msle: 0.4317 - val_loss: 3.9949 - val_msle: 0.4335\n",
            "Epoch 2/1000\n",
            "12388/12388 [==============================] - 156s 13ms/step - loss: 4.0046 - msle: 0.4307 - val_loss: 3.9949 - val_msle: 0.4333\n",
            "Epoch 3/1000\n",
            "12388/12388 [==============================] - 156s 13ms/step - loss: 4.0032 - msle: 0.4306 - val_loss: 3.9949 - val_msle: 0.4333\n",
            "Epoch 4/1000\n",
            "12388/12388 [==============================] - 154s 12ms/step - loss: 4.0025 - msle: 0.4306 - val_loss: 3.9949 - val_msle: 0.4334\n",
            "Epoch 5/1000\n",
            " 1600/12388 [==>...........................] - ETA: 2:00 - loss: 4.0152 - msle: 0.4328"
          ]
        }
      ]
    },
    {
      "cell_type": "code",
      "source": [],
      "metadata": {
        "id": "adn8_EKoWKbj"
      },
      "execution_count": null,
      "outputs": []
    },
    {
      "cell_type": "code",
      "source": [],
      "metadata": {
        "id": "psYJLOHZWKjR"
      },
      "execution_count": null,
      "outputs": []
    },
    {
      "cell_type": "code",
      "source": [],
      "metadata": {
        "id": "nvyRGF91WKnr"
      },
      "execution_count": null,
      "outputs": []
    },
    {
      "cell_type": "code",
      "execution_count": null,
      "metadata": {
        "id": "Ha_ppIAfaZsN"
      },
      "outputs": [],
      "source": [
        "from sklearn.preprocessing import MinMaxScaler\n",
        "s = MinMaxScaler()\n",
        "X_norm = s.fit_transform(X_prep)\n",
        "X1_norm =  s.transform(X1_prep)"
      ]
    },
    {
      "cell_type": "code",
      "execution_count": null,
      "metadata": {
        "colab": {
          "base_uri": "https://localhost:8080/"
        },
        "id": "a55fPMxbbbCA",
        "outputId": "c4ca9299-6d6b-4d63-c81f-91395c151672"
      },
      "outputs": [
        {
          "name": "stdout",
          "output_type": "stream",
          "text": [
            "Looking in indexes: https://pypi.org/simple, https://us-python.pkg.dev/colab-wheels/public/simple/\n",
            "Requirement already satisfied: autokeras in /usr/local/lib/python3.9/dist-packages (1.1.0)\n",
            "Requirement already satisfied: pandas in /usr/local/lib/python3.9/dist-packages (from autokeras) (1.5.3)\n",
            "Requirement already satisfied: packaging in /usr/local/lib/python3.9/dist-packages (from autokeras) (23.0)\n",
            "Requirement already satisfied: tensorflow>=2.8.0 in /usr/local/lib/python3.9/dist-packages (from autokeras) (2.12.0)\n",
            "Requirement already satisfied: keras-nlp>=0.4.0 in /usr/local/lib/python3.9/dist-packages (from autokeras) (0.4.1)\n",
            "Requirement already satisfied: keras-tuner>=1.1.0 in /usr/local/lib/python3.9/dist-packages (from autokeras) (1.3.5)\n",
            "Requirement already satisfied: numpy in /usr/local/lib/python3.9/dist-packages (from keras-nlp>=0.4.0->autokeras) (1.22.4)\n",
            "Requirement already satisfied: absl-py in /usr/local/lib/python3.9/dist-packages (from keras-nlp>=0.4.0->autokeras) (1.4.0)\n",
            "Requirement already satisfied: tensorflow-text in /usr/local/lib/python3.9/dist-packages (from keras-nlp>=0.4.0->autokeras) (2.12.1)\n",
            "Requirement already satisfied: requests in /usr/local/lib/python3.9/dist-packages (from keras-tuner>=1.1.0->autokeras) (2.27.1)\n",
            "Requirement already satisfied: kt-legacy in /usr/local/lib/python3.9/dist-packages (from keras-tuner>=1.1.0->autokeras) (1.0.5)\n",
            "Requirement already satisfied: gast<=0.4.0,>=0.2.1 in /usr/local/lib/python3.9/dist-packages (from tensorflow>=2.8.0->autokeras) (0.4.0)\n",
            "Requirement already satisfied: tensorflow-io-gcs-filesystem>=0.23.1 in /usr/local/lib/python3.9/dist-packages (from tensorflow>=2.8.0->autokeras) (0.32.0)\n",
            "Requirement already satisfied: protobuf!=4.21.0,!=4.21.1,!=4.21.2,!=4.21.3,!=4.21.4,!=4.21.5,<5.0.0dev,>=3.20.3 in /usr/local/lib/python3.9/dist-packages (from tensorflow>=2.8.0->autokeras) (3.20.3)\n",
            "Requirement already satisfied: typing-extensions>=3.6.6 in /usr/local/lib/python3.9/dist-packages (from tensorflow>=2.8.0->autokeras) (4.5.0)\n",
            "Requirement already satisfied: wrapt<1.15,>=1.11.0 in /usr/local/lib/python3.9/dist-packages (from tensorflow>=2.8.0->autokeras) (1.14.1)\n",
            "Requirement already satisfied: tensorflow-estimator<2.13,>=2.12.0 in /usr/local/lib/python3.9/dist-packages (from tensorflow>=2.8.0->autokeras) (2.12.0)\n",
            "Requirement already satisfied: flatbuffers>=2.0 in /usr/local/lib/python3.9/dist-packages (from tensorflow>=2.8.0->autokeras) (23.3.3)\n",
            "Requirement already satisfied: h5py>=2.9.0 in /usr/local/lib/python3.9/dist-packages (from tensorflow>=2.8.0->autokeras) (3.8.0)\n",
            "Requirement already satisfied: setuptools in /usr/local/lib/python3.9/dist-packages (from tensorflow>=2.8.0->autokeras) (67.6.1)\n",
            "Requirement already satisfied: termcolor>=1.1.0 in /usr/local/lib/python3.9/dist-packages (from tensorflow>=2.8.0->autokeras) (2.2.0)\n",
            "Requirement already satisfied: opt-einsum>=2.3.2 in /usr/local/lib/python3.9/dist-packages (from tensorflow>=2.8.0->autokeras) (3.3.0)\n",
            "Requirement already satisfied: tensorboard<2.13,>=2.12 in /usr/local/lib/python3.9/dist-packages (from tensorflow>=2.8.0->autokeras) (2.12.1)\n",
            "Requirement already satisfied: astunparse>=1.6.0 in /usr/local/lib/python3.9/dist-packages (from tensorflow>=2.8.0->autokeras) (1.6.3)\n",
            "Requirement already satisfied: libclang>=13.0.0 in /usr/local/lib/python3.9/dist-packages (from tensorflow>=2.8.0->autokeras) (16.0.0)\n",
            "Requirement already satisfied: grpcio<2.0,>=1.24.3 in /usr/local/lib/python3.9/dist-packages (from tensorflow>=2.8.0->autokeras) (1.53.0)\n",
            "Requirement already satisfied: keras<2.13,>=2.12.0 in /usr/local/lib/python3.9/dist-packages (from tensorflow>=2.8.0->autokeras) (2.12.0)\n",
            "Requirement already satisfied: google-pasta>=0.1.1 in /usr/local/lib/python3.9/dist-packages (from tensorflow>=2.8.0->autokeras) (0.2.0)\n",
            "Requirement already satisfied: jax>=0.3.15 in /usr/local/lib/python3.9/dist-packages (from tensorflow>=2.8.0->autokeras) (0.4.8)\n",
            "Requirement already satisfied: six>=1.12.0 in /usr/local/lib/python3.9/dist-packages (from tensorflow>=2.8.0->autokeras) (1.16.0)\n",
            "Requirement already satisfied: python-dateutil>=2.8.1 in /usr/local/lib/python3.9/dist-packages (from pandas->autokeras) (2.8.2)\n",
            "Requirement already satisfied: pytz>=2020.1 in /usr/local/lib/python3.9/dist-packages (from pandas->autokeras) (2022.7.1)\n",
            "Requirement already satisfied: wheel<1.0,>=0.23.0 in /usr/local/lib/python3.9/dist-packages (from astunparse>=1.6.0->tensorflow>=2.8.0->autokeras) (0.40.0)\n",
            "Requirement already satisfied: scipy>=1.7 in /usr/local/lib/python3.9/dist-packages (from jax>=0.3.15->tensorflow>=2.8.0->autokeras) (1.10.1)\n",
            "Requirement already satisfied: ml-dtypes>=0.0.3 in /usr/local/lib/python3.9/dist-packages (from jax>=0.3.15->tensorflow>=2.8.0->autokeras) (0.0.4)\n",
            "Requirement already satisfied: google-auth<3,>=1.6.3 in /usr/local/lib/python3.9/dist-packages (from tensorboard<2.13,>=2.12->tensorflow>=2.8.0->autokeras) (2.17.2)\n",
            "Requirement already satisfied: google-auth-oauthlib<1.1,>=0.5 in /usr/local/lib/python3.9/dist-packages (from tensorboard<2.13,>=2.12->tensorflow>=2.8.0->autokeras) (1.0.0)\n",
            "Requirement already satisfied: tensorboard-plugin-wit>=1.6.0 in /usr/local/lib/python3.9/dist-packages (from tensorboard<2.13,>=2.12->tensorflow>=2.8.0->autokeras) (1.8.1)\n",
            "Requirement already satisfied: tensorboard-data-server<0.8.0,>=0.7.0 in /usr/local/lib/python3.9/dist-packages (from tensorboard<2.13,>=2.12->tensorflow>=2.8.0->autokeras) (0.7.0)\n",
            "Requirement already satisfied: markdown>=2.6.8 in /usr/local/lib/python3.9/dist-packages (from tensorboard<2.13,>=2.12->tensorflow>=2.8.0->autokeras) (3.4.3)\n",
            "Requirement already satisfied: werkzeug>=1.0.1 in /usr/local/lib/python3.9/dist-packages (from tensorboard<2.13,>=2.12->tensorflow>=2.8.0->autokeras) (2.2.3)\n",
            "Requirement already satisfied: urllib3<1.27,>=1.21.1 in /usr/local/lib/python3.9/dist-packages (from requests->keras-tuner>=1.1.0->autokeras) (1.26.15)\n",
            "Requirement already satisfied: certifi>=2017.4.17 in /usr/local/lib/python3.9/dist-packages (from requests->keras-tuner>=1.1.0->autokeras) (2022.12.7)\n",
            "Requirement already satisfied: idna<4,>=2.5 in /usr/local/lib/python3.9/dist-packages (from requests->keras-tuner>=1.1.0->autokeras) (3.4)\n",
            "Requirement already satisfied: charset-normalizer~=2.0.0 in /usr/local/lib/python3.9/dist-packages (from requests->keras-tuner>=1.1.0->autokeras) (2.0.12)\n",
            "Requirement already satisfied: tensorflow-hub>=0.8.0 in /usr/local/lib/python3.9/dist-packages (from tensorflow-text->keras-nlp>=0.4.0->autokeras) (0.13.0)\n",
            "Requirement already satisfied: cachetools<6.0,>=2.0.0 in /usr/local/lib/python3.9/dist-packages (from google-auth<3,>=1.6.3->tensorboard<2.13,>=2.12->tensorflow>=2.8.0->autokeras) (5.3.0)\n",
            "Requirement already satisfied: rsa<5,>=3.1.4 in /usr/local/lib/python3.9/dist-packages (from google-auth<3,>=1.6.3->tensorboard<2.13,>=2.12->tensorflow>=2.8.0->autokeras) (4.9)\n",
            "Requirement already satisfied: pyasn1-modules>=0.2.1 in /usr/local/lib/python3.9/dist-packages (from google-auth<3,>=1.6.3->tensorboard<2.13,>=2.12->tensorflow>=2.8.0->autokeras) (0.2.8)\n",
            "Requirement already satisfied: requests-oauthlib>=0.7.0 in /usr/local/lib/python3.9/dist-packages (from google-auth-oauthlib<1.1,>=0.5->tensorboard<2.13,>=2.12->tensorflow>=2.8.0->autokeras) (1.3.1)\n",
            "Requirement already satisfied: importlib-metadata>=4.4 in /usr/local/lib/python3.9/dist-packages (from markdown>=2.6.8->tensorboard<2.13,>=2.12->tensorflow>=2.8.0->autokeras) (6.3.0)\n",
            "Requirement already satisfied: MarkupSafe>=2.1.1 in /usr/local/lib/python3.9/dist-packages (from werkzeug>=1.0.1->tensorboard<2.13,>=2.12->tensorflow>=2.8.0->autokeras) (2.1.2)\n",
            "Requirement already satisfied: zipp>=0.5 in /usr/local/lib/python3.9/dist-packages (from importlib-metadata>=4.4->markdown>=2.6.8->tensorboard<2.13,>=2.12->tensorflow>=2.8.0->autokeras) (3.15.0)\n",
            "Requirement already satisfied: pyasn1<0.5.0,>=0.4.6 in /usr/local/lib/python3.9/dist-packages (from pyasn1-modules>=0.2.1->google-auth<3,>=1.6.3->tensorboard<2.13,>=2.12->tensorflow>=2.8.0->autokeras) (0.4.8)\n",
            "Requirement already satisfied: oauthlib>=3.0.0 in /usr/local/lib/python3.9/dist-packages (from requests-oauthlib>=0.7.0->google-auth-oauthlib<1.1,>=0.5->tensorboard<2.13,>=2.12->tensorflow>=2.8.0->autokeras) (3.2.2)\n"
          ]
        }
      ],
      "source": [
        "!pip install autokeras"
      ]
    },
    {
      "cell_type": "code",
      "execution_count": null,
      "metadata": {
        "id": "u_ud1tOgbZhr"
      },
      "outputs": [],
      "source": [
        "import autokeras as ak\n",
        "input1 = ak.Input()\n",
        "ouput = ak.DenseBlock()(input1)\n",
        "output = ak.RegressionHead()(ouput)\n",
        "model = ak.AutoModel(inputs=input1,outputs=output,overwrite=True,max_trials=1,metrics=['msle'])"
      ]
    },
    {
      "cell_type": "code",
      "execution_count": null,
      "metadata": {
        "id": "9xOjLQxIbooJ"
      },
      "outputs": [],
      "source": [
        "model.fit(X_norm,y,epochs=3)"
      ]
    },
    {
      "cell_type": "code",
      "execution_count": null,
      "metadata": {
        "id": "yMseHCPlbwdz"
      },
      "outputs": [],
      "source": [
        "y_pred = model.predict(X1_prep)"
      ]
    },
    {
      "cell_type": "code",
      "execution_count": null,
      "metadata": {
        "colab": {
          "base_uri": "https://localhost:8080/"
        },
        "id": "xrGIpoKFG957",
        "outputId": "fdd56414-4600-4755-efc1-fa19dde49889"
      },
      "outputs": [
        {
          "name": "stdout",
          "output_type": "stream",
          "text": [
            "Looking in indexes: https://pypi.org/simple, https://us-python.pkg.dev/colab-wheels/public/simple/\n",
            "Collecting flaml\n",
            "  Downloading FLAML-1.2.0-py3-none-any.whl (250 kB)\n",
            "\u001b[2K     \u001b[90m━━━━━━━━━━━━━━━━━━━━━━━━━━━━━━━━━━━━━━\u001b[0m \u001b[32m250.4/250.4 kB\u001b[0m \u001b[31m11.5 MB/s\u001b[0m eta \u001b[36m0:00:00\u001b[0m\n",
            "\u001b[?25hRequirement already satisfied: xgboost>=0.90 in /usr/local/lib/python3.9/dist-packages (from flaml) (1.7.5)\n",
            "Requirement already satisfied: NumPy>=1.17.0rc1 in /usr/local/lib/python3.9/dist-packages (from flaml) (1.22.4)\n",
            "Requirement already satisfied: pandas>=1.1.4 in /usr/local/lib/python3.9/dist-packages (from flaml) (1.5.3)\n",
            "Requirement already satisfied: scipy>=1.4.1 in /usr/local/lib/python3.9/dist-packages (from flaml) (1.10.1)\n",
            "Requirement already satisfied: scikit-learn>=0.24 in /usr/local/lib/python3.9/dist-packages (from flaml) (1.2.2)\n",
            "Requirement already satisfied: lightgbm>=2.3.1 in /usr/local/lib/python3.9/dist-packages (from flaml) (3.3.5)\n",
            "Requirement already satisfied: wheel in /usr/local/lib/python3.9/dist-packages (from lightgbm>=2.3.1->flaml) (0.40.0)\n",
            "Requirement already satisfied: pytz>=2020.1 in /usr/local/lib/python3.9/dist-packages (from pandas>=1.1.4->flaml) (2022.7.1)\n",
            "Requirement already satisfied: python-dateutil>=2.8.1 in /usr/local/lib/python3.9/dist-packages (from pandas>=1.1.4->flaml) (2.8.2)\n",
            "Requirement already satisfied: threadpoolctl>=2.0.0 in /usr/local/lib/python3.9/dist-packages (from scikit-learn>=0.24->flaml) (3.1.0)\n",
            "Requirement already satisfied: joblib>=1.1.1 in /usr/local/lib/python3.9/dist-packages (from scikit-learn>=0.24->flaml) (1.2.0)\n",
            "Requirement already satisfied: six>=1.5 in /usr/local/lib/python3.9/dist-packages (from python-dateutil>=2.8.1->pandas>=1.1.4->flaml) (1.16.0)\n",
            "Installing collected packages: flaml\n",
            "Successfully installed flaml-1.2.0\n"
          ]
        }
      ],
      "source": [
        "!pip install flaml"
      ]
    },
    {
      "cell_type": "code",
      "execution_count": null,
      "metadata": {
        "colab": {
          "base_uri": "https://localhost:8080/"
        },
        "id": "BkzK3z13HL4z",
        "outputId": "3a6bc843-7c60-4b43-ed05-c328d3fa6c0d"
      },
      "outputs": [
        {
          "name": "stdout",
          "output_type": "stream",
          "text": [
            "[flaml.automl.logger: 04-16 12:53:55] {1768} INFO - task = regression\n",
            "[flaml.automl.logger: 04-16 12:53:55] {1775} INFO - Data split method: uniform\n",
            "[flaml.automl.logger: 04-16 12:53:55] {1778} INFO - Evaluation method: cv\n",
            "[flaml.automl.logger: 04-16 12:53:55] {1891} INFO - Minimizing error metric: rmse\n",
            "[flaml.automl.logger: 04-16 12:53:55] {2011} INFO - List of ML learners in AutoML Run: ['lgbm', 'rf', 'xgboost', 'extra_tree', 'xgb_limitdepth']\n",
            "[flaml.automl.logger: 04-16 12:53:55] {2341} INFO - iteration 0, current learner lgbm\n",
            "[flaml.automl.logger: 04-16 12:54:10] {2479} INFO - Estimated sufficient time budget=146045s. Estimated necessary time budget=1030s.\n",
            "[flaml.automl.logger: 04-16 12:54:10] {2526} INFO -  at 14.9s,\testimator lgbm's best error=1.9997,\tbest estimator lgbm's best error=1.9997\n",
            "[flaml.automl.logger: 04-16 12:54:10] {2341} INFO - iteration 1, current learner lgbm\n",
            "[flaml.automl.logger: 04-16 12:54:19] {2526} INFO -  at 24.5s,\testimator lgbm's best error=1.9997,\tbest estimator lgbm's best error=1.9997\n",
            "[flaml.automl.logger: 04-16 12:54:19] {2341} INFO - iteration 2, current learner lgbm\n",
            "[flaml.automl.logger: 04-16 12:54:30] {2526} INFO -  at 35.3s,\testimator lgbm's best error=1.9997,\tbest estimator lgbm's best error=1.9997\n",
            "[flaml.automl.logger: 04-16 12:54:30] {2341} INFO - iteration 3, current learner lgbm\n",
            "[flaml.automl.logger: 04-16 12:54:42] {2526} INFO -  at 47.7s,\testimator lgbm's best error=1.9997,\tbest estimator lgbm's best error=1.9997\n",
            "[flaml.automl.logger: 04-16 12:54:42] {2341} INFO - iteration 4, current learner lgbm\n",
            "[flaml.automl.logger: 04-16 12:54:53] {2526} INFO -  at 58.5s,\testimator lgbm's best error=1.9997,\tbest estimator lgbm's best error=1.9997\n",
            "[flaml.automl.logger: 04-16 12:54:53] {2341} INFO - iteration 5, current learner lgbm\n",
            "[flaml.automl.logger: 04-16 12:55:06] {2526} INFO -  at 71.2s,\testimator lgbm's best error=1.9997,\tbest estimator lgbm's best error=1.9997\n",
            "[flaml.automl.logger: 04-16 12:55:06] {2341} INFO - iteration 6, current learner xgboost\n",
            "[flaml.automl.logger: 04-16 12:55:20] {2526} INFO -  at 85.3s,\testimator xgboost's best error=2.5872,\tbest estimator lgbm's best error=1.9997\n",
            "[flaml.automl.logger: 04-16 12:55:20] {2341} INFO - iteration 7, current learner lgbm\n",
            "[flaml.automl.logger: 04-16 12:55:33] {2526} INFO -  at 98.4s,\testimator lgbm's best error=1.9997,\tbest estimator lgbm's best error=1.9997\n",
            "[flaml.automl.logger: 04-16 12:55:33] {2341} INFO - iteration 8, current learner lgbm\n",
            "[flaml.automl.logger: 04-16 12:55:44] {2526} INFO -  at 109.1s,\testimator lgbm's best error=1.9997,\tbest estimator lgbm's best error=1.9997\n",
            "[flaml.automl.logger: 04-16 12:55:44] {2341} INFO - iteration 9, current learner lgbm\n",
            "[flaml.automl.logger: 04-16 12:56:02] {2526} INFO -  at 127.0s,\testimator lgbm's best error=1.9997,\tbest estimator lgbm's best error=1.9997\n",
            "[flaml.automl.logger: 04-16 12:56:02] {2341} INFO - iteration 10, current learner xgboost\n",
            "[flaml.automl.logger: 04-16 12:56:15] {2526} INFO -  at 140.6s,\testimator xgboost's best error=2.5872,\tbest estimator lgbm's best error=1.9997\n",
            "[flaml.automl.logger: 04-16 12:56:15] {2341} INFO - iteration 11, current learner xgboost\n",
            "[flaml.automl.logger: 04-16 12:56:30] {2526} INFO -  at 155.4s,\testimator xgboost's best error=2.1371,\tbest estimator lgbm's best error=1.9997\n",
            "[flaml.automl.logger: 04-16 12:56:30] {2341} INFO - iteration 12, current learner extra_tree\n",
            "[flaml.automl.logger: 04-16 12:57:01] {2526} INFO -  at 186.6s,\testimator extra_tree's best error=1.9997,\tbest estimator lgbm's best error=1.9997\n",
            "[flaml.automl.logger: 04-16 12:57:01] {2341} INFO - iteration 13, current learner xgboost\n",
            "[flaml.automl.logger: 04-16 12:57:15] {2526} INFO -  at 200.2s,\testimator xgboost's best error=2.0000,\tbest estimator lgbm's best error=1.9997\n",
            "[flaml.automl.logger: 04-16 12:57:15] {2341} INFO - iteration 14, current learner xgboost\n",
            "[flaml.automl.logger: 04-16 12:57:30] {2526} INFO -  at 215.2s,\testimator xgboost's best error=2.0000,\tbest estimator lgbm's best error=1.9997\n",
            "[flaml.automl.logger: 04-16 12:57:30] {2341} INFO - iteration 15, current learner xgboost\n",
            "[flaml.automl.logger: 04-16 12:57:44] {2526} INFO -  at 229.3s,\testimator xgboost's best error=2.0000,\tbest estimator lgbm's best error=1.9997\n",
            "[flaml.automl.logger: 04-16 12:57:44] {2341} INFO - iteration 16, current learner extra_tree\n",
            "[flaml.automl.logger: 04-16 12:58:28] {2526} INFO -  at 273.6s,\testimator extra_tree's best error=1.9997,\tbest estimator lgbm's best error=1.9997\n",
            "[flaml.automl.logger: 04-16 12:58:28] {2341} INFO - iteration 17, current learner lgbm\n",
            "[flaml.automl.logger: 04-16 12:58:39] {2526} INFO -  at 284.6s,\testimator lgbm's best error=1.9997,\tbest estimator lgbm's best error=1.9997\n",
            "[flaml.automl.logger: 04-16 12:58:39] {2341} INFO - iteration 18, current learner xgboost\n",
            "[flaml.automl.logger: 04-16 12:58:55] {2526} INFO -  at 300.3s,\testimator xgboost's best error=2.0000,\tbest estimator lgbm's best error=1.9997\n",
            "[flaml.automl.logger: 04-16 12:58:55] {2341} INFO - iteration 19, current learner rf\n",
            "[flaml.automl.logger: 04-16 12:59:34] {2526} INFO -  at 339.0s,\testimator rf's best error=1.9997,\tbest estimator lgbm's best error=1.9997\n",
            "[flaml.automl.logger: 04-16 12:59:34] {2341} INFO - iteration 20, current learner rf\n",
            "[flaml.automl.logger: 04-16 13:00:34] {2526} INFO -  at 399.6s,\testimator rf's best error=1.9997,\tbest estimator lgbm's best error=1.9997\n",
            "[flaml.automl.logger: 04-16 13:00:34] {2341} INFO - iteration 21, current learner xgboost\n",
            "[flaml.automl.logger: 04-16 13:00:49] {2526} INFO -  at 414.8s,\testimator xgboost's best error=2.0000,\tbest estimator lgbm's best error=1.9997\n",
            "[flaml.automl.logger: 04-16 13:00:49] {2341} INFO - iteration 22, current learner lgbm\n",
            "[flaml.automl.logger: 04-16 13:01:14] {2526} INFO -  at 438.8s,\testimator lgbm's best error=1.9997,\tbest estimator lgbm's best error=1.9997\n",
            "[flaml.automl.logger: 04-16 13:01:14] {2341} INFO - iteration 23, current learner rf\n",
            "[flaml.automl.logger: 04-16 13:02:52] {2526} INFO -  at 536.8s,\testimator rf's best error=1.9997,\tbest estimator lgbm's best error=1.9997\n",
            "[flaml.automl.logger: 04-16 13:02:52] {2341} INFO - iteration 24, current learner extra_tree\n",
            "[flaml.automl.logger: 04-16 13:03:41] {2526} INFO -  at 586.1s,\testimator extra_tree's best error=1.9997,\tbest estimator lgbm's best error=1.9997\n",
            "[flaml.automl.logger: 04-16 13:03:41] {2341} INFO - iteration 25, current learner xgboost\n",
            "[flaml.automl.logger: 04-16 13:03:54] {2526} INFO -  at 599.5s,\testimator xgboost's best error=2.0000,\tbest estimator lgbm's best error=1.9997\n",
            "[flaml.automl.logger: 04-16 13:03:54] {2341} INFO - iteration 26, current learner xgb_limitdepth\n",
            "[flaml.automl.logger: 04-16 13:03:56] {2526} INFO -  at 601.7s,\testimator xgb_limitdepth's best error=2.6632,\tbest estimator lgbm's best error=1.9997\n",
            "[flaml.automl.logger: 04-16 13:03:57] {2790} INFO - retrain lgbm for 1.0s\n",
            "[flaml.automl.logger: 04-16 13:03:57] {2797} INFO - retrained model: LGBMRegressor(colsample_bytree=0.6389203895134972,\n",
            "              learning_rate=0.10591441245329958, max_bin=511,\n",
            "              min_child_samples=15, n_estimators=14, num_leaves=5,\n",
            "              reg_alpha=0.0014132988481787994, reg_lambda=0.022976154325858374,\n",
            "              verbose=-1)\n",
            "[flaml.automl.logger: 04-16 13:03:57] {2041} INFO - fit succeeded\n",
            "[flaml.automl.logger: 04-16 13:03:57] {2042} INFO - Time taken to find the best model: 71.20473003387451\n"
          ]
        }
      ],
      "source": [
        "# Auto ML : Fast and Light Auto ML FLAML (Microsoft)\n",
        "from flaml import AutoML\n",
        "model_ML = AutoML()\n",
        "model_ML.fit( X_prep, y,\n",
        "    time_budget= 600,  # in seconds\n",
        "    metric = 'rmse',\n",
        "    task = 'regression',\n",
        "    eval_method='cv',\n",
        "             n_splits=10,# cross validation\n",
        "    #estimator_list=['lgbm'],         \n",
        "    ensemble=False) # ensemble all models\n",
        "model = model_ML.model"
      ]
    },
    {
      "cell_type": "code",
      "execution_count": null,
      "metadata": {
        "id": "BTDfl2BxJngR"
      },
      "outputs": [],
      "source": [
        "\"\"\"y = df.AQI_Bucket.to_numpy()\n",
        "X = df.drop(['AQI_Bucket'],axis=1)\n",
        "X1=df1\"\"\""
      ]
    },
    {
      "cell_type": "code",
      "execution_count": null,
      "metadata": {
        "colab": {
          "base_uri": "https://localhost:8080/"
        },
        "id": "8kBH4jbjyps5",
        "outputId": "20c9ad27-8dac-40b5-f20d-d9fecd0081d1"
      },
      "outputs": [
        {
          "name": "stderr",
          "output_type": "stream",
          "text": [
            "/usr/local/lib/python3.9/dist-packages/sklearn/preprocessing/_encoders.py:868: FutureWarning: `sparse` was renamed to `sparse_output` in version 1.2 and will be removed in 1.4. `sparse_output` is ignored unless you leave `sparse` to its default value.\n",
            "  warnings.warn(\n"
          ]
        },
        {
          "name": "stdout",
          "output_type": "stream",
          "text": [
            "(707875, 26)\n"
          ]
        }
      ],
      "source": [
        "from sklearn.preprocessing import OneHotEncoder\n",
        "ohe = OneHotEncoder(sparse=False)\n",
        "ohe.fit(DF.City.to_numpy().reshape(-1,1))\n",
        "DF_city_ohe = ohe.transform(DF.City.to_numpy().reshape(-1,1))\n",
        "print(DF_city_ohe.shape)"
      ]
    },
    {
      "cell_type": "code",
      "execution_count": null,
      "metadata": {
        "colab": {
          "base_uri": "https://localhost:8080/"
        },
        "id": "Q2g1C7lHz2mi",
        "outputId": "6130d4f0-3843-421f-f070-5e55251f9791"
      },
      "outputs": [
        {
          "data": {
            "text/plain": [
              "(707875, 48)"
            ]
          },
          "execution_count": 21,
          "metadata": {},
          "output_type": "execute_result"
        }
      ],
      "source": [
        "DF_concat = pd.concat([DF.reset_index(),pd.DataFrame(DF_city_ohe)],axis=1)\n",
        "DF_concat = DF_concat.drop(['level_0'],axis=1)\n",
        "DF_concat.shape"
      ]
    },
    {
      "cell_type": "code",
      "execution_count": null,
      "metadata": {
        "id": "hyxNkBONACQs"
      },
      "outputs": [],
      "source": [
        "DF = DF.reset_index()"
      ]
    },
    {
      "cell_type": "code",
      "execution_count": null,
      "metadata": {
        "id": "sDB1XCjFEoba"
      },
      "outputs": [],
      "source": [
        "DF_hour = pd.DataFrame(DF.hour)\n",
        "DF_hour.columns = ['hour1']"
      ]
    },
    {
      "cell_type": "code",
      "execution_count": null,
      "metadata": {
        "colab": {
          "base_uri": "https://localhost:8080/"
        },
        "id": "X5Lxc8LAAbLc",
        "outputId": "08cefcc6-2367-4de1-b401-d59cea0ce2bc"
      },
      "outputs": [
        {
          "data": {
            "text/plain": [
              "(707875, 49)"
            ]
          },
          "execution_count": 24,
          "metadata": {},
          "output_type": "execute_result"
        }
      ],
      "source": [
        "DF_concat = pd.concat([DF_concat,DF_hour],axis=1)\n",
        "DF_concat.shape"
      ]
    },
    {
      "cell_type": "code",
      "execution_count": null,
      "metadata": {
        "colab": {
          "base_uri": "https://localhost:8080/",
          "height": 424
        },
        "id": "vRa_Z5Lu_rO-",
        "outputId": "bb9d3182-e6b9-4f00-c2eb-5fdb21e92e8b"
      },
      "outputs": [
        {
          "data": {
            "text/html": [
              "\n",
              "  <div id=\"df-df9c76ee-ad6d-4c37-b788-58e7cdea965f\">\n",
              "    <div class=\"colab-df-container\">\n",
              "      <div>\n",
              "<style scoped>\n",
              "    .dataframe tbody tr th:only-of-type {\n",
              "        vertical-align: middle;\n",
              "    }\n",
              "\n",
              "    .dataframe tbody tr th {\n",
              "        vertical-align: top;\n",
              "    }\n",
              "\n",
              "    .dataframe thead th {\n",
              "        text-align: right;\n",
              "    }\n",
              "</style>\n",
              "<table border=\"1\" class=\"dataframe\">\n",
              "  <thead>\n",
              "    <tr style=\"text-align: right;\">\n",
              "      <th></th>\n",
              "      <th>City</th>\n",
              "      <th>PM2.5</th>\n",
              "      <th>PM10</th>\n",
              "      <th>NO</th>\n",
              "      <th>NO2</th>\n",
              "      <th>NOx</th>\n",
              "      <th>NH3</th>\n",
              "      <th>CO</th>\n",
              "      <th>SO2</th>\n",
              "      <th>O3</th>\n",
              "      <th>...</th>\n",
              "      <th>17</th>\n",
              "      <th>18</th>\n",
              "      <th>19</th>\n",
              "      <th>20</th>\n",
              "      <th>21</th>\n",
              "      <th>22</th>\n",
              "      <th>23</th>\n",
              "      <th>24</th>\n",
              "      <th>25</th>\n",
              "      <th>hour1</th>\n",
              "    </tr>\n",
              "  </thead>\n",
              "  <tbody>\n",
              "    <tr>\n",
              "      <th>0</th>\n",
              "      <td>Delhi</td>\n",
              "      <td>454.6</td>\n",
              "      <td>935.2</td>\n",
              "      <td>81.5</td>\n",
              "      <td>41.8</td>\n",
              "      <td>187.7</td>\n",
              "      <td>27.5</td>\n",
              "      <td>9.3</td>\n",
              "      <td>3.4</td>\n",
              "      <td>54.9</td>\n",
              "      <td>...</td>\n",
              "      <td>0.0</td>\n",
              "      <td>0.0</td>\n",
              "      <td>0.0</td>\n",
              "      <td>0.0</td>\n",
              "      <td>0.0</td>\n",
              "      <td>0.0</td>\n",
              "      <td>0.0</td>\n",
              "      <td>0.0</td>\n",
              "      <td>0.0</td>\n",
              "      <td>1</td>\n",
              "    </tr>\n",
              "    <tr>\n",
              "      <th>2</th>\n",
              "      <td>Delhi</td>\n",
              "      <td>409.1</td>\n",
              "      <td>119.1</td>\n",
              "      <td>132.5</td>\n",
              "      <td>41.2</td>\n",
              "      <td>141.0</td>\n",
              "      <td>28.9</td>\n",
              "      <td>29.7</td>\n",
              "      <td>2.8</td>\n",
              "      <td>19.3</td>\n",
              "      <td>...</td>\n",
              "      <td>0.0</td>\n",
              "      <td>0.0</td>\n",
              "      <td>0.0</td>\n",
              "      <td>0.0</td>\n",
              "      <td>0.0</td>\n",
              "      <td>0.0</td>\n",
              "      <td>0.0</td>\n",
              "      <td>0.0</td>\n",
              "      <td>0.0</td>\n",
              "      <td>3</td>\n",
              "    </tr>\n",
              "    <tr>\n",
              "      <th>3</th>\n",
              "      <td>Delhi</td>\n",
              "      <td>436.1</td>\n",
              "      <td>119.1</td>\n",
              "      <td>84.8</td>\n",
              "      <td>39.6</td>\n",
              "      <td>102.8</td>\n",
              "      <td>29.3</td>\n",
              "      <td>21.8</td>\n",
              "      <td>2.8</td>\n",
              "      <td>20.1</td>\n",
              "      <td>...</td>\n",
              "      <td>0.0</td>\n",
              "      <td>0.0</td>\n",
              "      <td>0.0</td>\n",
              "      <td>0.0</td>\n",
              "      <td>0.0</td>\n",
              "      <td>0.0</td>\n",
              "      <td>0.0</td>\n",
              "      <td>0.0</td>\n",
              "      <td>0.0</td>\n",
              "      <td>4</td>\n",
              "    </tr>\n",
              "    <tr>\n",
              "      <th>4</th>\n",
              "      <td>Delhi</td>\n",
              "      <td>415.9</td>\n",
              "      <td>977.0</td>\n",
              "      <td>60.2</td>\n",
              "      <td>37.4</td>\n",
              "      <td>80.1</td>\n",
              "      <td>30.8</td>\n",
              "      <td>26.2</td>\n",
              "      <td>6.2</td>\n",
              "      <td>16.0</td>\n",
              "      <td>...</td>\n",
              "      <td>0.0</td>\n",
              "      <td>0.0</td>\n",
              "      <td>0.0</td>\n",
              "      <td>0.0</td>\n",
              "      <td>0.0</td>\n",
              "      <td>0.0</td>\n",
              "      <td>0.0</td>\n",
              "      <td>0.0</td>\n",
              "      <td>0.0</td>\n",
              "      <td>5</td>\n",
              "    </tr>\n",
              "    <tr>\n",
              "      <th>5</th>\n",
              "      <td>Delhi</td>\n",
              "      <td>384.2</td>\n",
              "      <td>862.2</td>\n",
              "      <td>59.8</td>\n",
              "      <td>32.1</td>\n",
              "      <td>78.3</td>\n",
              "      <td>30.7</td>\n",
              "      <td>11.0</td>\n",
              "      <td>7.3</td>\n",
              "      <td>12.3</td>\n",
              "      <td>...</td>\n",
              "      <td>0.0</td>\n",
              "      <td>0.0</td>\n",
              "      <td>0.0</td>\n",
              "      <td>0.0</td>\n",
              "      <td>0.0</td>\n",
              "      <td>0.0</td>\n",
              "      <td>0.0</td>\n",
              "      <td>0.0</td>\n",
              "      <td>0.0</td>\n",
              "      <td>6</td>\n",
              "    </tr>\n",
              "    <tr>\n",
              "      <th>...</th>\n",
              "      <td>...</td>\n",
              "      <td>...</td>\n",
              "      <td>...</td>\n",
              "      <td>...</td>\n",
              "      <td>...</td>\n",
              "      <td>...</td>\n",
              "      <td>...</td>\n",
              "      <td>...</td>\n",
              "      <td>...</td>\n",
              "      <td>...</td>\n",
              "      <td>...</td>\n",
              "      <td>...</td>\n",
              "      <td>...</td>\n",
              "      <td>...</td>\n",
              "      <td>...</td>\n",
              "      <td>...</td>\n",
              "      <td>...</td>\n",
              "      <td>...</td>\n",
              "      <td>...</td>\n",
              "      <td>...</td>\n",
              "      <td>...</td>\n",
              "    </tr>\n",
              "    <tr>\n",
              "      <th>707869</th>\n",
              "      <td>Ernakulam</td>\n",
              "      <td>9.1</td>\n",
              "      <td>34.2</td>\n",
              "      <td>5.1</td>\n",
              "      <td>2.2</td>\n",
              "      <td>3.2</td>\n",
              "      <td>4.6</td>\n",
              "      <td>2.9</td>\n",
              "      <td>2.7</td>\n",
              "      <td>34.8</td>\n",
              "      <td>...</td>\n",
              "      <td>0.0</td>\n",
              "      <td>0.0</td>\n",
              "      <td>0.0</td>\n",
              "      <td>0.0</td>\n",
              "      <td>0.0</td>\n",
              "      <td>0.0</td>\n",
              "      <td>0.0</td>\n",
              "      <td>0.0</td>\n",
              "      <td>0.0</td>\n",
              "      <td>19</td>\n",
              "    </tr>\n",
              "    <tr>\n",
              "      <th>707870</th>\n",
              "      <td>Ernakulam</td>\n",
              "      <td>12.0</td>\n",
              "      <td>39.1</td>\n",
              "      <td>3.5</td>\n",
              "      <td>2.4</td>\n",
              "      <td>2.2</td>\n",
              "      <td>2.6</td>\n",
              "      <td>2.7</td>\n",
              "      <td>2.7</td>\n",
              "      <td>34.8</td>\n",
              "      <td>...</td>\n",
              "      <td>0.0</td>\n",
              "      <td>0.0</td>\n",
              "      <td>0.0</td>\n",
              "      <td>0.0</td>\n",
              "      <td>0.0</td>\n",
              "      <td>0.0</td>\n",
              "      <td>0.0</td>\n",
              "      <td>0.0</td>\n",
              "      <td>0.0</td>\n",
              "      <td>20</td>\n",
              "    </tr>\n",
              "    <tr>\n",
              "      <th>707871</th>\n",
              "      <td>Ernakulam</td>\n",
              "      <td>13.1</td>\n",
              "      <td>43.4</td>\n",
              "      <td>2.8</td>\n",
              "      <td>2.4</td>\n",
              "      <td>1.7</td>\n",
              "      <td>1.6</td>\n",
              "      <td>2.8</td>\n",
              "      <td>2.7</td>\n",
              "      <td>34.8</td>\n",
              "      <td>...</td>\n",
              "      <td>0.0</td>\n",
              "      <td>0.0</td>\n",
              "      <td>0.0</td>\n",
              "      <td>0.0</td>\n",
              "      <td>0.0</td>\n",
              "      <td>0.0</td>\n",
              "      <td>0.0</td>\n",
              "      <td>0.0</td>\n",
              "      <td>0.0</td>\n",
              "      <td>21</td>\n",
              "    </tr>\n",
              "    <tr>\n",
              "      <th>707873</th>\n",
              "      <td>Ernakulam</td>\n",
              "      <td>14.8</td>\n",
              "      <td>46.0</td>\n",
              "      <td>2.6</td>\n",
              "      <td>2.4</td>\n",
              "      <td>1.6</td>\n",
              "      <td>1.5</td>\n",
              "      <td>2.2</td>\n",
              "      <td>2.4</td>\n",
              "      <td>34.8</td>\n",
              "      <td>...</td>\n",
              "      <td>0.0</td>\n",
              "      <td>0.0</td>\n",
              "      <td>0.0</td>\n",
              "      <td>0.0</td>\n",
              "      <td>0.0</td>\n",
              "      <td>0.0</td>\n",
              "      <td>0.0</td>\n",
              "      <td>0.0</td>\n",
              "      <td>0.0</td>\n",
              "      <td>23</td>\n",
              "    </tr>\n",
              "    <tr>\n",
              "      <th>707874</th>\n",
              "      <td>Ernakulam</td>\n",
              "      <td>5.9</td>\n",
              "      <td>13.9</td>\n",
              "      <td>2.6</td>\n",
              "      <td>2.4</td>\n",
              "      <td>1.6</td>\n",
              "      <td>1.4</td>\n",
              "      <td>2.1</td>\n",
              "      <td>2.7</td>\n",
              "      <td>34.8</td>\n",
              "      <td>...</td>\n",
              "      <td>0.0</td>\n",
              "      <td>0.0</td>\n",
              "      <td>0.0</td>\n",
              "      <td>0.0</td>\n",
              "      <td>0.0</td>\n",
              "      <td>0.0</td>\n",
              "      <td>0.0</td>\n",
              "      <td>0.0</td>\n",
              "      <td>0.0</td>\n",
              "      <td>0</td>\n",
              "    </tr>\n",
              "  </tbody>\n",
              "</table>\n",
              "<p>495512 rows × 47 columns</p>\n",
              "</div>\n",
              "      <button class=\"colab-df-convert\" onclick=\"convertToInteractive('df-df9c76ee-ad6d-4c37-b788-58e7cdea965f')\"\n",
              "              title=\"Convert this dataframe to an interactive table.\"\n",
              "              style=\"display:none;\">\n",
              "        \n",
              "  <svg xmlns=\"http://www.w3.org/2000/svg\" height=\"24px\"viewBox=\"0 0 24 24\"\n",
              "       width=\"24px\">\n",
              "    <path d=\"M0 0h24v24H0V0z\" fill=\"none\"/>\n",
              "    <path d=\"M18.56 5.44l.94 2.06.94-2.06 2.06-.94-2.06-.94-.94-2.06-.94 2.06-2.06.94zm-11 1L8.5 8.5l.94-2.06 2.06-.94-2.06-.94L8.5 2.5l-.94 2.06-2.06.94zm10 10l.94 2.06.94-2.06 2.06-.94-2.06-.94-.94-2.06-.94 2.06-2.06.94z\"/><path d=\"M17.41 7.96l-1.37-1.37c-.4-.4-.92-.59-1.43-.59-.52 0-1.04.2-1.43.59L10.3 9.45l-7.72 7.72c-.78.78-.78 2.05 0 2.83L4 21.41c.39.39.9.59 1.41.59.51 0 1.02-.2 1.41-.59l7.78-7.78 2.81-2.81c.8-.78.8-2.07 0-2.86zM5.41 20L4 18.59l7.72-7.72 1.47 1.35L5.41 20z\"/>\n",
              "  </svg>\n",
              "      </button>\n",
              "      \n",
              "  <style>\n",
              "    .colab-df-container {\n",
              "      display:flex;\n",
              "      flex-wrap:wrap;\n",
              "      gap: 12px;\n",
              "    }\n",
              "\n",
              "    .colab-df-convert {\n",
              "      background-color: #E8F0FE;\n",
              "      border: none;\n",
              "      border-radius: 50%;\n",
              "      cursor: pointer;\n",
              "      display: none;\n",
              "      fill: #1967D2;\n",
              "      height: 32px;\n",
              "      padding: 0 0 0 0;\n",
              "      width: 32px;\n",
              "    }\n",
              "\n",
              "    .colab-df-convert:hover {\n",
              "      background-color: #E2EBFA;\n",
              "      box-shadow: 0px 1px 2px rgba(60, 64, 67, 0.3), 0px 1px 3px 1px rgba(60, 64, 67, 0.15);\n",
              "      fill: #174EA6;\n",
              "    }\n",
              "\n",
              "    [theme=dark] .colab-df-convert {\n",
              "      background-color: #3B4455;\n",
              "      fill: #D2E3FC;\n",
              "    }\n",
              "\n",
              "    [theme=dark] .colab-df-convert:hover {\n",
              "      background-color: #434B5C;\n",
              "      box-shadow: 0px 1px 3px 1px rgba(0, 0, 0, 0.15);\n",
              "      filter: drop-shadow(0px 1px 2px rgba(0, 0, 0, 0.3));\n",
              "      fill: #FFFFFF;\n",
              "    }\n",
              "  </style>\n",
              "\n",
              "      <script>\n",
              "        const buttonEl =\n",
              "          document.querySelector('#df-df9c76ee-ad6d-4c37-b788-58e7cdea965f button.colab-df-convert');\n",
              "        buttonEl.style.display =\n",
              "          google.colab.kernel.accessAllowed ? 'block' : 'none';\n",
              "\n",
              "        async function convertToInteractive(key) {\n",
              "          const element = document.querySelector('#df-df9c76ee-ad6d-4c37-b788-58e7cdea965f');\n",
              "          const dataTable =\n",
              "            await google.colab.kernel.invokeFunction('convertToInteractive',\n",
              "                                                     [key], {});\n",
              "          if (!dataTable) return;\n",
              "\n",
              "          const docLinkHtml = 'Like what you see? Visit the ' +\n",
              "            '<a target=\"_blank\" href=https://colab.research.google.com/notebooks/data_table.ipynb>data table notebook</a>'\n",
              "            + ' to learn more about interactive tables.';\n",
              "          element.innerHTML = '';\n",
              "          dataTable['output_type'] = 'display_data';\n",
              "          await google.colab.output.renderOutput(dataTable, element);\n",
              "          const docLink = document.createElement('div');\n",
              "          docLink.innerHTML = docLinkHtml;\n",
              "          element.appendChild(docLink);\n",
              "        }\n",
              "      </script>\n",
              "    </div>\n",
              "  </div>\n",
              "  "
            ],
            "text/plain": [
              "             City  PM2.5   PM10     NO   NO2    NOx   NH3    CO  SO2    O3  \\\n",
              "0           Delhi  454.6  935.2   81.5  41.8  187.7  27.5   9.3  3.4  54.9   \n",
              "2           Delhi  409.1  119.1  132.5  41.2  141.0  28.9  29.7  2.8  19.3   \n",
              "3           Delhi  436.1  119.1   84.8  39.6  102.8  29.3  21.8  2.8  20.1   \n",
              "4           Delhi  415.9  977.0   60.2  37.4   80.1  30.8  26.2  6.2  16.0   \n",
              "5           Delhi  384.2  862.2   59.8  32.1   78.3  30.7  11.0  7.3  12.3   \n",
              "...           ...    ...    ...    ...   ...    ...   ...   ...  ...   ...   \n",
              "707869  Ernakulam    9.1   34.2    5.1   2.2    3.2   4.6   2.9  2.7  34.8   \n",
              "707870  Ernakulam   12.0   39.1    3.5   2.4    2.2   2.6   2.7  2.7  34.8   \n",
              "707871  Ernakulam   13.1   43.4    2.8   2.4    1.7   1.6   2.8  2.7  34.8   \n",
              "707873  Ernakulam   14.8   46.0    2.6   2.4    1.6   1.5   2.2  2.4  34.8   \n",
              "707874  Ernakulam    5.9   13.9    2.6   2.4    1.6   1.4   2.1  2.7  34.8   \n",
              "\n",
              "        ...   17   18   19   20   21   22   23   24   25  hour1  \n",
              "0       ...  0.0  0.0  0.0  0.0  0.0  0.0  0.0  0.0  0.0      1  \n",
              "2       ...  0.0  0.0  0.0  0.0  0.0  0.0  0.0  0.0  0.0      3  \n",
              "3       ...  0.0  0.0  0.0  0.0  0.0  0.0  0.0  0.0  0.0      4  \n",
              "4       ...  0.0  0.0  0.0  0.0  0.0  0.0  0.0  0.0  0.0      5  \n",
              "5       ...  0.0  0.0  0.0  0.0  0.0  0.0  0.0  0.0  0.0      6  \n",
              "...     ...  ...  ...  ...  ...  ...  ...  ...  ...  ...    ...  \n",
              "707869  ...  0.0  0.0  0.0  0.0  0.0  0.0  0.0  0.0  0.0     19  \n",
              "707870  ...  0.0  0.0  0.0  0.0  0.0  0.0  0.0  0.0  0.0     20  \n",
              "707871  ...  0.0  0.0  0.0  0.0  0.0  0.0  0.0  0.0  0.0     21  \n",
              "707873  ...  0.0  0.0  0.0  0.0  0.0  0.0  0.0  0.0  0.0     23  \n",
              "707874  ...  0.0  0.0  0.0  0.0  0.0  0.0  0.0  0.0  0.0      0  \n",
              "\n",
              "[495512 rows x 47 columns]"
            ]
          },
          "execution_count": 27,
          "metadata": {},
          "output_type": "execute_result"
        }
      ],
      "source": [
        "DF_train"
      ]
    },
    {
      "cell_type": "code",
      "execution_count": null,
      "metadata": {
        "id": "yAKQfXXyDMqT"
      },
      "outputs": [],
      "source": [
        "DF_train_delhi = DF_train[DF_train.City=='Delhi']"
      ]
    },
    {
      "cell_type": "code",
      "execution_count": null,
      "metadata": {
        "colab": {
          "base_uri": "https://localhost:8080/"
        },
        "id": "RjCF8ed7DTjY",
        "outputId": "5bb2bef5-5224-4d94-abee-99c03b39aa23"
      },
      "outputs": [
        {
          "name": "stdout",
          "output_type": "stream",
          "text": [
            "(26984, 47) (6747, 47)\n"
          ]
        }
      ],
      "source": [
        "val_split = np.int64(0.8*(DF_train_delhi.shape[0]))\n",
        "DF_train_train = DF_train_delhi[:val_split]\n",
        "DF_train_val =  DF_train_delhi[val_split:]\n",
        "print(DF_train_train.shape,DF_train_val.shape)"
      ]
    },
    {
      "cell_type": "code",
      "execution_count": null,
      "metadata": {
        "id": "o7NFQO4FD_Ir"
      },
      "outputs": [],
      "source": [
        "cities = ['Jaipur', 'Amritsar', 'Amaravati', 'Kochi', 'Ahmedabad',\n",
        "       'Lucknow', 'Thiruvananthapuram', 'Talcher', 'Guwahati',\n",
        "       'Chandigarh', 'Visakhapatnam', 'Gurugram', 'Mumbai', 'Bengaluru',\n",
        "       'Coimbatore', 'Brajrajnagar', 'Hyderabad', 'Chennai', 'Patna',\n",
        "       'Kolkata', 'Bhopal', 'Jorapokhar', 'Aizawl', 'Shillong',\n",
        "       'Ernakulam']"
      ]
    },
    {
      "cell_type": "code",
      "execution_count": null,
      "metadata": {
        "colab": {
          "base_uri": "https://localhost:8080/"
        },
        "id": "GgPrXNTi_-Om",
        "outputId": "5fed3324-4240-4694-d157-b41ff403c163"
      },
      "outputs": [
        {
          "name": "stdout",
          "output_type": "stream",
          "text": [
            "(396398, 47) (99114, 47)\n"
          ]
        }
      ],
      "source": [
        "for city in cities:\n",
        "    df_temp=DF_train[DF_train.City==city]\n",
        "    val_split = np.int64(0.8*(df_temp.shape[0]))\n",
        "    DF_train_train = pd.concat([DF_train_train,df_temp[:val_split]],axis=0)\n",
        "    DF_train_val = pd.concat([DF_train_val,df_temp[val_split:]],axis=0)\n",
        "print(DF_train_train.shape,DF_train_val.shape)   "
      ]
    },
    {
      "cell_type": "code",
      "execution_count": null,
      "metadata": {
        "id": "ouqounPGS_Rc"
      },
      "outputs": [],
      "source": [
        "features = ['PM2.5', 'PM10', 'NO', 'NO2', 'NOx', 'NH3', 'CO', 'SO2', 'O3', 'Benzene', 'Toluene', 'Xylene', 'year', 'month', 'day', 'dayofweek', 'weekend', 'hour', 0, 1, 2, 3, 4, 5, 6, 7, 8, 9, 10,\n",
        " 11, 12, 13, 14, 15, 16, 17, 18, 19, 20, 21, 22, 23, 24, 25]"
      ]
    },
    {
      "cell_type": "code",
      "execution_count": null,
      "metadata": {
        "id": "nFG4Mft_uFg5"
      },
      "outputs": [],
      "source": [
        "mean = DF_train_train.loc[:,features].mean()\n",
        "std = DF_train_train.loc[:,features].std()\n",
        "DF_train_train.loc[:,features] = (DF_train_train.loc[:,features]-mean)/std\n",
        "DF_train_val.loc[:,features] = (DF_train_val.loc[:,features]-mean)/std"
      ]
    },
    {
      "cell_type": "code",
      "execution_count": null,
      "metadata": {
        "id": "DgnMelWqewF1"
      },
      "outputs": [],
      "source": [
        "past=1\n",
        "future=0"
      ]
    },
    {
      "cell_type": "code",
      "execution_count": null,
      "metadata": {
        "colab": {
          "base_uri": "https://localhost:8080/"
        },
        "id": "CRUuxV581u66",
        "outputId": "a1d5ed31-ade6-448c-c172-d263ecc08b8b"
      },
      "outputs": [
        {
          "name": "stderr",
          "output_type": "stream",
          "text": [
            "100%|██████████| 26/26 [05:20<00:00, 12.32s/it]\n"
          ]
        },
        {
          "name": "stdout",
          "output_type": "stream",
          "text": [
            "(277627, 2, 44) (277627,)\n"
          ]
        }
      ],
      "source": [
        "from tqdm import tqdm\n",
        "X_train_prep =[]\n",
        "y_train_prep=[]\n",
        "for city in tqdm(list(DF.City.unique())):\n",
        "         df_temp = DF_train_train[DF_train_train.City==city]\n",
        "         for i in range(past,(df_temp.shape[0]-future)):\n",
        "              if ((df_temp.iloc[i]['hour1']-df_temp.iloc[i-1]['hour1'])==1)|((df_temp.iloc[i]['hour1']-df_temp.iloc[i-1]['hour1'])==-23):\n",
        "                      X_train_prep.append(df_temp[i-past:i+1].drop(['AQI_Bucket','City','hour1'],axis=1))\n",
        "                      y_train_prep.append(df_temp[i:i+1]['AQI_Bucket'])\n",
        "X_train_prep = np.array(X_train_prep)\n",
        "y_train_prep = np.array(y_train_prep).flatten()\n",
        "print(X_train_prep.shape, y_train_prep.shape)                      "
      ]
    },
    {
      "cell_type": "code",
      "execution_count": null,
      "metadata": {
        "colab": {
          "base_uri": "https://localhost:8080/"
        },
        "id": "48h9lfECx7S2",
        "outputId": "a7f73b26-6043-4f93-99f0-6bc41118e22e"
      },
      "outputs": [
        {
          "name": "stderr",
          "output_type": "stream",
          "text": [
            "100%|██████████| 26/26 [01:20<00:00,  3.08s/it]\n"
          ]
        },
        {
          "name": "stdout",
          "output_type": "stream",
          "text": [
            "(69548, 2, 44) (69548,)\n"
          ]
        }
      ],
      "source": [
        "from tqdm import tqdm\n",
        "X_val_prep =[]\n",
        "y_val_prep=[]\n",
        "for city in tqdm(list(DF.City.unique())):\n",
        "         df_temp = DF_train_val[DF_train_val.City==city]\n",
        "         for i in range(past,(df_temp.shape[0]-future)):\n",
        "              if ((df_temp.iloc[i]['hour1']-df_temp.iloc[i-1]['hour1'])==1)|((df_temp.iloc[i]['hour1']-df_temp.iloc[i-1]['hour1'])==-23):\n",
        "                      X_val_prep.append(df_temp[i-past:i+1].drop(['AQI_Bucket','City','hour1'],axis=1))\n",
        "                      y_val_prep.append(df_temp[i:i+1]['AQI_Bucket'])\n",
        "X_val_prep = np.array(X_val_prep)\n",
        "y_val_prep = np.array(y_val_prep).flatten()\n",
        "print(X_val_prep.shape, y_val_prep.shape)  "
      ]
    },
    {
      "cell_type": "code",
      "execution_count": null,
      "metadata": {
        "colab": {
          "base_uri": "https://localhost:8080/"
        },
        "id": "r1fFcQ-C8wHU",
        "outputId": "271bf6d6-3797-49e6-c7e7-3b74ded49a26"
      },
      "outputs": [
        {
          "name": "stdout",
          "output_type": "stream",
          "text": [
            "Looking in indexes: https://pypi.org/simple, https://us-python.pkg.dev/colab-wheels/public/simple/\n",
            "Collecting autokeras\n",
            "  Downloading autokeras-1.1.0-py3-none-any.whl (148 kB)\n",
            "\u001b[2K     \u001b[90m━━━━━━━━━━━━━━━━━━━━━━━━━━━━━━━━━━━━━━━\u001b[0m \u001b[32m148.6/148.6 kB\u001b[0m \u001b[31m6.5 MB/s\u001b[0m eta \u001b[36m0:00:00\u001b[0m\n",
            "\u001b[?25hCollecting keras-tuner>=1.1.0\n",
            "  Downloading keras_tuner-1.3.5-py3-none-any.whl (176 kB)\n",
            "\u001b[2K     \u001b[90m━━━━━━━━━━━━━━━━━━━━━━━━━━━━━━━━━━━━━━\u001b[0m \u001b[32m176.1/176.1 kB\u001b[0m \u001b[31m15.5 MB/s\u001b[0m eta \u001b[36m0:00:00\u001b[0m\n",
            "\u001b[?25hRequirement already satisfied: tensorflow>=2.8.0 in /usr/local/lib/python3.9/dist-packages (from autokeras) (2.12.0)\n",
            "Requirement already satisfied: pandas in /usr/local/lib/python3.9/dist-packages (from autokeras) (1.5.3)\n",
            "Requirement already satisfied: packaging in /usr/local/lib/python3.9/dist-packages (from autokeras) (23.0)\n",
            "Collecting keras-nlp>=0.4.0\n",
            "  Downloading keras_nlp-0.4.1-py3-none-any.whl (466 kB)\n",
            "\u001b[2K     \u001b[90m━━━━━━━━━━━━━━━━━━━━━━━━━━━━━━━━━━━━━━\u001b[0m \u001b[32m466.8/466.8 kB\u001b[0m \u001b[31m20.3 MB/s\u001b[0m eta \u001b[36m0:00:00\u001b[0m\n",
            "\u001b[?25hRequirement already satisfied: absl-py in /usr/local/lib/python3.9/dist-packages (from keras-nlp>=0.4.0->autokeras) (1.4.0)\n",
            "Collecting tensorflow-text\n",
            "  Downloading tensorflow_text-2.12.1-cp39-cp39-manylinux_2_17_x86_64.manylinux2014_x86_64.whl (6.0 MB)\n",
            "\u001b[2K     \u001b[90m━━━━━━━━━━━━━━━━━━━━━━━━━━━━━━━━━━━━━━━━\u001b[0m \u001b[32m6.0/6.0 MB\u001b[0m \u001b[31m61.5 MB/s\u001b[0m eta \u001b[36m0:00:00\u001b[0m\n",
            "\u001b[?25hRequirement already satisfied: numpy in /usr/local/lib/python3.9/dist-packages (from keras-nlp>=0.4.0->autokeras) (1.22.4)\n",
            "Requirement already satisfied: requests in /usr/local/lib/python3.9/dist-packages (from keras-tuner>=1.1.0->autokeras) (2.27.1)\n",
            "Collecting kt-legacy\n",
            "  Downloading kt_legacy-1.0.5-py3-none-any.whl (9.6 kB)\n",
            "Requirement already satisfied: h5py>=2.9.0 in /usr/local/lib/python3.9/dist-packages (from tensorflow>=2.8.0->autokeras) (3.8.0)\n",
            "Requirement already satisfied: wrapt<1.15,>=1.11.0 in /usr/local/lib/python3.9/dist-packages (from tensorflow>=2.8.0->autokeras) (1.14.1)\n",
            "Requirement already satisfied: typing-extensions>=3.6.6 in /usr/local/lib/python3.9/dist-packages (from tensorflow>=2.8.0->autokeras) (4.5.0)\n",
            "Requirement already satisfied: tensorboard<2.13,>=2.12 in /usr/local/lib/python3.9/dist-packages (from tensorflow>=2.8.0->autokeras) (2.12.1)\n",
            "Requirement already satisfied: google-pasta>=0.1.1 in /usr/local/lib/python3.9/dist-packages (from tensorflow>=2.8.0->autokeras) (0.2.0)\n",
            "Requirement already satisfied: six>=1.12.0 in /usr/local/lib/python3.9/dist-packages (from tensorflow>=2.8.0->autokeras) (1.16.0)\n",
            "Requirement already satisfied: setuptools in /usr/local/lib/python3.9/dist-packages (from tensorflow>=2.8.0->autokeras) (67.6.1)\n",
            "Requirement already satisfied: tensorflow-io-gcs-filesystem>=0.23.1 in /usr/local/lib/python3.9/dist-packages (from tensorflow>=2.8.0->autokeras) (0.32.0)\n",
            "Requirement already satisfied: jax>=0.3.15 in /usr/local/lib/python3.9/dist-packages (from tensorflow>=2.8.0->autokeras) (0.4.8)\n",
            "Requirement already satisfied: tensorflow-estimator<2.13,>=2.12.0 in /usr/local/lib/python3.9/dist-packages (from tensorflow>=2.8.0->autokeras) (2.12.0)\n",
            "Requirement already satisfied: flatbuffers>=2.0 in /usr/local/lib/python3.9/dist-packages (from tensorflow>=2.8.0->autokeras) (23.3.3)\n",
            "Requirement already satisfied: termcolor>=1.1.0 in /usr/local/lib/python3.9/dist-packages (from tensorflow>=2.8.0->autokeras) (2.2.0)\n",
            "Requirement already satisfied: libclang>=13.0.0 in /usr/local/lib/python3.9/dist-packages (from tensorflow>=2.8.0->autokeras) (16.0.0)\n",
            "Requirement already satisfied: keras<2.13,>=2.12.0 in /usr/local/lib/python3.9/dist-packages (from tensorflow>=2.8.0->autokeras) (2.12.0)\n",
            "Requirement already satisfied: opt-einsum>=2.3.2 in /usr/local/lib/python3.9/dist-packages (from tensorflow>=2.8.0->autokeras) (3.3.0)\n",
            "Requirement already satisfied: protobuf!=4.21.0,!=4.21.1,!=4.21.2,!=4.21.3,!=4.21.4,!=4.21.5,<5.0.0dev,>=3.20.3 in /usr/local/lib/python3.9/dist-packages (from tensorflow>=2.8.0->autokeras) (3.20.3)\n",
            "Requirement already satisfied: gast<=0.4.0,>=0.2.1 in /usr/local/lib/python3.9/dist-packages (from tensorflow>=2.8.0->autokeras) (0.4.0)\n",
            "Requirement already satisfied: astunparse>=1.6.0 in /usr/local/lib/python3.9/dist-packages (from tensorflow>=2.8.0->autokeras) (1.6.3)\n",
            "Requirement already satisfied: grpcio<2.0,>=1.24.3 in /usr/local/lib/python3.9/dist-packages (from tensorflow>=2.8.0->autokeras) (1.53.0)\n",
            "Requirement already satisfied: python-dateutil>=2.8.1 in /usr/local/lib/python3.9/dist-packages (from pandas->autokeras) (2.8.2)\n",
            "Requirement already satisfied: pytz>=2020.1 in /usr/local/lib/python3.9/dist-packages (from pandas->autokeras) (2022.7.1)\n",
            "Requirement already satisfied: wheel<1.0,>=0.23.0 in /usr/local/lib/python3.9/dist-packages (from astunparse>=1.6.0->tensorflow>=2.8.0->autokeras) (0.40.0)\n",
            "Requirement already satisfied: ml-dtypes>=0.0.3 in /usr/local/lib/python3.9/dist-packages (from jax>=0.3.15->tensorflow>=2.8.0->autokeras) (0.0.4)\n",
            "Requirement already satisfied: scipy>=1.7 in /usr/local/lib/python3.9/dist-packages (from jax>=0.3.15->tensorflow>=2.8.0->autokeras) (1.10.1)\n",
            "Requirement already satisfied: markdown>=2.6.8 in /usr/local/lib/python3.9/dist-packages (from tensorboard<2.13,>=2.12->tensorflow>=2.8.0->autokeras) (3.4.3)\n",
            "Requirement already satisfied: werkzeug>=1.0.1 in /usr/local/lib/python3.9/dist-packages (from tensorboard<2.13,>=2.12->tensorflow>=2.8.0->autokeras) (2.2.3)\n",
            "Requirement already satisfied: tensorboard-data-server<0.8.0,>=0.7.0 in /usr/local/lib/python3.9/dist-packages (from tensorboard<2.13,>=2.12->tensorflow>=2.8.0->autokeras) (0.7.0)\n",
            "Requirement already satisfied: google-auth-oauthlib<1.1,>=0.5 in /usr/local/lib/python3.9/dist-packages (from tensorboard<2.13,>=2.12->tensorflow>=2.8.0->autokeras) (1.0.0)\n",
            "Requirement already satisfied: tensorboard-plugin-wit>=1.6.0 in /usr/local/lib/python3.9/dist-packages (from tensorboard<2.13,>=2.12->tensorflow>=2.8.0->autokeras) (1.8.1)\n",
            "Requirement already satisfied: google-auth<3,>=1.6.3 in /usr/local/lib/python3.9/dist-packages (from tensorboard<2.13,>=2.12->tensorflow>=2.8.0->autokeras) (2.17.2)\n",
            "Requirement already satisfied: urllib3<1.27,>=1.21.1 in /usr/local/lib/python3.9/dist-packages (from requests->keras-tuner>=1.1.0->autokeras) (1.26.15)\n",
            "Requirement already satisfied: idna<4,>=2.5 in /usr/local/lib/python3.9/dist-packages (from requests->keras-tuner>=1.1.0->autokeras) (3.4)\n",
            "Requirement already satisfied: charset-normalizer~=2.0.0 in /usr/local/lib/python3.9/dist-packages (from requests->keras-tuner>=1.1.0->autokeras) (2.0.12)\n",
            "Requirement already satisfied: certifi>=2017.4.17 in /usr/local/lib/python3.9/dist-packages (from requests->keras-tuner>=1.1.0->autokeras) (2022.12.7)\n",
            "Requirement already satisfied: tensorflow-hub>=0.8.0 in /usr/local/lib/python3.9/dist-packages (from tensorflow-text->keras-nlp>=0.4.0->autokeras) (0.13.0)\n",
            "Requirement already satisfied: pyasn1-modules>=0.2.1 in /usr/local/lib/python3.9/dist-packages (from google-auth<3,>=1.6.3->tensorboard<2.13,>=2.12->tensorflow>=2.8.0->autokeras) (0.2.8)\n",
            "Requirement already satisfied: rsa<5,>=3.1.4 in /usr/local/lib/python3.9/dist-packages (from google-auth<3,>=1.6.3->tensorboard<2.13,>=2.12->tensorflow>=2.8.0->autokeras) (4.9)\n",
            "Requirement already satisfied: cachetools<6.0,>=2.0.0 in /usr/local/lib/python3.9/dist-packages (from google-auth<3,>=1.6.3->tensorboard<2.13,>=2.12->tensorflow>=2.8.0->autokeras) (5.3.0)\n",
            "Requirement already satisfied: requests-oauthlib>=0.7.0 in /usr/local/lib/python3.9/dist-packages (from google-auth-oauthlib<1.1,>=0.5->tensorboard<2.13,>=2.12->tensorflow>=2.8.0->autokeras) (1.3.1)\n",
            "Requirement already satisfied: importlib-metadata>=4.4 in /usr/local/lib/python3.9/dist-packages (from markdown>=2.6.8->tensorboard<2.13,>=2.12->tensorflow>=2.8.0->autokeras) (6.3.0)\n",
            "Requirement already satisfied: MarkupSafe>=2.1.1 in /usr/local/lib/python3.9/dist-packages (from werkzeug>=1.0.1->tensorboard<2.13,>=2.12->tensorflow>=2.8.0->autokeras) (2.1.2)\n",
            "Requirement already satisfied: zipp>=0.5 in /usr/local/lib/python3.9/dist-packages (from importlib-metadata>=4.4->markdown>=2.6.8->tensorboard<2.13,>=2.12->tensorflow>=2.8.0->autokeras) (3.15.0)\n",
            "Requirement already satisfied: pyasn1<0.5.0,>=0.4.6 in /usr/local/lib/python3.9/dist-packages (from pyasn1-modules>=0.2.1->google-auth<3,>=1.6.3->tensorboard<2.13,>=2.12->tensorflow>=2.8.0->autokeras) (0.4.8)\n",
            "Requirement already satisfied: oauthlib>=3.0.0 in /usr/local/lib/python3.9/dist-packages (from requests-oauthlib>=0.7.0->google-auth-oauthlib<1.1,>=0.5->tensorboard<2.13,>=2.12->tensorflow>=2.8.0->autokeras) (3.2.2)\n",
            "Installing collected packages: kt-legacy, keras-tuner, tensorflow-text, keras-nlp, autokeras\n",
            "Successfully installed autokeras-1.1.0 keras-nlp-0.4.1 keras-tuner-1.3.5 kt-legacy-1.0.5 tensorflow-text-2.12.1\n"
          ]
        }
      ],
      "source": [
        "!pip install autokeras"
      ]
    },
    {
      "cell_type": "code",
      "execution_count": null,
      "metadata": {
        "id": "qbO2nxdZ8l2o"
      },
      "outputs": [],
      "source": [
        "import autokeras as ak\n",
        "input1 = ak.Input()\n",
        "#conv = ak.ConvBlock()(input1)\n",
        "rnn = ak.RNNBlock()(input1)\n",
        "output = ak.RegressionHead()(rnn)\n",
        "model = ak.AutoModel(inputs=input1,outputs=output,overwrite=True,max_trials=3,metrics=['msle'])"
      ]
    },
    {
      "cell_type": "code",
      "execution_count": null,
      "metadata": {
        "colab": {
          "base_uri": "https://localhost:8080/"
        },
        "id": "y9Ykgqz489nZ",
        "outputId": "661328da-6f0e-4b45-9ded-c8e1e7c62ca0"
      },
      "outputs": [
        {
          "name": "stdout",
          "output_type": "stream",
          "text": [
            "Trial 3 Complete [00h 36m 48s]\n",
            "val_loss: 3.991079568862915\n",
            "\n",
            "Best val_loss So Far: 3.990638256072998\n",
            "Total elapsed time: 01h 11m 08s\n"
          ]
        },
        {
          "name": "stderr",
          "output_type": "stream",
          "text": [
            "WARNING:absl:Found untraced functions such as _update_step_xla, gru_cell_1_layer_call_fn, gru_cell_1_layer_call_and_return_conditional_losses, gru_cell_2_layer_call_fn, gru_cell_2_layer_call_and_return_conditional_losses while saving (showing 5 of 9). These functions will not be directly callable after loading.\n",
            "WARNING:tensorflow:Detecting that an object or model or tf.train.Checkpoint is being deleted with unrestored values. See the following logs for the specific values in question. To silence these warnings, use `status.expect_partial()`. See https://www.tensorflow.org/api_docs/python/tf/train/Checkpoint#restorefor details about the status object returned by the restore function.\n",
            "WARNING:tensorflow:Value in checkpoint could not be found in the restored object: (root).optimizer._variables.1\n",
            "WARNING:tensorflow:Value in checkpoint could not be found in the restored object: (root).optimizer._variables.2\n",
            "WARNING:tensorflow:Value in checkpoint could not be found in the restored object: (root).optimizer._variables.3\n",
            "WARNING:tensorflow:Value in checkpoint could not be found in the restored object: (root).optimizer._variables.4\n",
            "WARNING:tensorflow:Value in checkpoint could not be found in the restored object: (root).optimizer._variables.5\n",
            "WARNING:tensorflow:Value in checkpoint could not be found in the restored object: (root).optimizer._variables.6\n",
            "WARNING:tensorflow:Value in checkpoint could not be found in the restored object: (root).optimizer._variables.7\n",
            "WARNING:tensorflow:Value in checkpoint could not be found in the restored object: (root).optimizer._variables.8\n",
            "WARNING:tensorflow:Value in checkpoint could not be found in the restored object: (root).optimizer._variables.9\n",
            "WARNING:tensorflow:Value in checkpoint could not be found in the restored object: (root).optimizer._variables.10\n",
            "WARNING:tensorflow:Value in checkpoint could not be found in the restored object: (root).optimizer._variables.11\n",
            "WARNING:tensorflow:Value in checkpoint could not be found in the restored object: (root).optimizer._variables.12\n",
            "WARNING:tensorflow:Value in checkpoint could not be found in the restored object: (root).optimizer._variables.13\n",
            "WARNING:tensorflow:Value in checkpoint could not be found in the restored object: (root).optimizer._variables.14\n",
            "WARNING:tensorflow:Value in checkpoint could not be found in the restored object: (root).optimizer._variables.15\n",
            "WARNING:tensorflow:Value in checkpoint could not be found in the restored object: (root).optimizer._variables.16\n",
            "WARNING:tensorflow:Value in checkpoint could not be found in the restored object: (root).optimizer._variables.17\n",
            "WARNING:tensorflow:Value in checkpoint could not be found in the restored object: (root).optimizer._variables.18\n",
            "WARNING:tensorflow:Value in checkpoint could not be found in the restored object: (root).optimizer._variables.19\n",
            "WARNING:tensorflow:Value in checkpoint could not be found in the restored object: (root).optimizer._variables.20\n",
            "WARNING:tensorflow:Value in checkpoint could not be found in the restored object: (root).optimizer._variables.21\n",
            "WARNING:tensorflow:Value in checkpoint could not be found in the restored object: (root).optimizer._variables.22\n",
            "WARNING:tensorflow:Value in checkpoint could not be found in the restored object: (root).optimizer._variables.23\n",
            "WARNING:tensorflow:Value in checkpoint could not be found in the restored object: (root).optimizer._variables.24\n",
            "WARNING:tensorflow:Value in checkpoint could not be found in the restored object: (root).optimizer._variables.25\n",
            "WARNING:tensorflow:Value in checkpoint could not be found in the restored object: (root).optimizer._variables.26\n",
            "WARNING:tensorflow:Value in checkpoint could not be found in the restored object: (root).optimizer._variables.27\n",
            "WARNING:tensorflow:Value in checkpoint could not be found in the restored object: (root).optimizer._variables.28\n"
          ]
        }
      ],
      "source": [
        "model.fit(X_train_prep,y_train_prep,validation_data=(X_val_prep,y_val_prep))"
      ]
    },
    {
      "cell_type": "code",
      "execution_count": null,
      "metadata": {
        "id": "Mz4PCtdcM6hf"
      },
      "outputs": [],
      "source": [
        "best_model = model.export_model()\n",
        "best_model.save('/content/drive/MyDrive/machine_hack/aqi/model.h5')"
      ]
    },
    {
      "cell_type": "code",
      "execution_count": null,
      "metadata": {
        "id": "Y0R_DdUsNVwS"
      },
      "outputs": [],
      "source": [
        "from tensorflow.keras.models import load_model\n",
        "model = load_model('/content/drive/MyDrive/machine_hack/aqi/model.h5',custom_objects=ak.CUSTOM_OBJECTS)"
      ]
    },
    {
      "cell_type": "markdown",
      "metadata": {
        "id": "L5hNa1pcOJiX"
      },
      "source": [
        "PREPARE TEST"
      ]
    },
    {
      "cell_type": "code",
      "execution_count": null,
      "metadata": {
        "colab": {
          "base_uri": "https://localhost:8080/"
        },
        "id": "GgM9cXWD4fNT",
        "outputId": "541ff399-a0f8-44f9-8545-2d1471be34c2"
      },
      "outputs": [
        {
          "data": {
            "text/plain": [
              "(212363, 49)"
            ]
          },
          "execution_count": 52,
          "metadata": {},
          "output_type": "execute_result"
        }
      ],
      "source": [
        "DF_concat_test = DF_concat[DF_concat.train==0]\n",
        "DF_concat_test.shape"
      ]
    },
    {
      "cell_type": "code",
      "execution_count": null,
      "metadata": {
        "colab": {
          "base_uri": "https://localhost:8080/"
        },
        "id": "JzTWZSx9PjfR",
        "outputId": "1c2abf3d-7bbf-4b50-b9b9-7ae50b2652e6"
      },
      "outputs": [
        {
          "data": {
            "text/plain": [
              "1"
            ]
          },
          "execution_count": 618,
          "metadata": {},
          "output_type": "execute_result"
        }
      ],
      "source": [
        "DF_concat_test.index[0]"
      ]
    },
    {
      "cell_type": "code",
      "execution_count": null,
      "metadata": {
        "colab": {
          "base_uri": "https://localhost:8080/",
          "height": 110
        },
        "id": "TIz-jTZcQRik",
        "outputId": "2cb3b6b1-03d8-4463-dc5e-3e1b2dd76a8d"
      },
      "outputs": [
        {
          "data": {
            "text/html": [
              "\n",
              "  <div id=\"df-51568da7-481c-4605-9cf0-957b3d57f9b8\">\n",
              "    <div class=\"colab-df-container\">\n",
              "      <div>\n",
              "<style scoped>\n",
              "    .dataframe tbody tr th:only-of-type {\n",
              "        vertical-align: middle;\n",
              "    }\n",
              "\n",
              "    .dataframe tbody tr th {\n",
              "        vertical-align: top;\n",
              "    }\n",
              "\n",
              "    .dataframe thead th {\n",
              "        text-align: right;\n",
              "    }\n",
              "</style>\n",
              "<table border=\"1\" class=\"dataframe\">\n",
              "  <thead>\n",
              "    <tr style=\"text-align: right;\">\n",
              "      <th></th>\n",
              "      <th>City</th>\n",
              "      <th>PM2.5</th>\n",
              "      <th>PM10</th>\n",
              "      <th>NO</th>\n",
              "      <th>NO2</th>\n",
              "      <th>NOx</th>\n",
              "      <th>NH3</th>\n",
              "      <th>CO</th>\n",
              "      <th>SO2</th>\n",
              "      <th>O3</th>\n",
              "      <th>...</th>\n",
              "      <th>17</th>\n",
              "      <th>18</th>\n",
              "      <th>19</th>\n",
              "      <th>20</th>\n",
              "      <th>21</th>\n",
              "      <th>22</th>\n",
              "      <th>23</th>\n",
              "      <th>24</th>\n",
              "      <th>25</th>\n",
              "      <th>hour1</th>\n",
              "    </tr>\n",
              "  </thead>\n",
              "  <tbody>\n",
              "    <tr>\n",
              "      <th>0</th>\n",
              "      <td>Delhi</td>\n",
              "      <td>454.6</td>\n",
              "      <td>935.2</td>\n",
              "      <td>81.5</td>\n",
              "      <td>41.8</td>\n",
              "      <td>187.7</td>\n",
              "      <td>27.5</td>\n",
              "      <td>9.3</td>\n",
              "      <td>3.4</td>\n",
              "      <td>54.9</td>\n",
              "      <td>...</td>\n",
              "      <td>0.0</td>\n",
              "      <td>0.0</td>\n",
              "      <td>0.0</td>\n",
              "      <td>0.0</td>\n",
              "      <td>0.0</td>\n",
              "      <td>0.0</td>\n",
              "      <td>0.0</td>\n",
              "      <td>0.0</td>\n",
              "      <td>0.0</td>\n",
              "      <td>1</td>\n",
              "    </tr>\n",
              "  </tbody>\n",
              "</table>\n",
              "<p>1 rows × 49 columns</p>\n",
              "</div>\n",
              "      <button class=\"colab-df-convert\" onclick=\"convertToInteractive('df-51568da7-481c-4605-9cf0-957b3d57f9b8')\"\n",
              "              title=\"Convert this dataframe to an interactive table.\"\n",
              "              style=\"display:none;\">\n",
              "        \n",
              "  <svg xmlns=\"http://www.w3.org/2000/svg\" height=\"24px\"viewBox=\"0 0 24 24\"\n",
              "       width=\"24px\">\n",
              "    <path d=\"M0 0h24v24H0V0z\" fill=\"none\"/>\n",
              "    <path d=\"M18.56 5.44l.94 2.06.94-2.06 2.06-.94-2.06-.94-.94-2.06-.94 2.06-2.06.94zm-11 1L8.5 8.5l.94-2.06 2.06-.94-2.06-.94L8.5 2.5l-.94 2.06-2.06.94zm10 10l.94 2.06.94-2.06 2.06-.94-2.06-.94-.94-2.06-.94 2.06-2.06.94z\"/><path d=\"M17.41 7.96l-1.37-1.37c-.4-.4-.92-.59-1.43-.59-.52 0-1.04.2-1.43.59L10.3 9.45l-7.72 7.72c-.78.78-.78 2.05 0 2.83L4 21.41c.39.39.9.59 1.41.59.51 0 1.02-.2 1.41-.59l7.78-7.78 2.81-2.81c.8-.78.8-2.07 0-2.86zM5.41 20L4 18.59l7.72-7.72 1.47 1.35L5.41 20z\"/>\n",
              "  </svg>\n",
              "      </button>\n",
              "      \n",
              "  <style>\n",
              "    .colab-df-container {\n",
              "      display:flex;\n",
              "      flex-wrap:wrap;\n",
              "      gap: 12px;\n",
              "    }\n",
              "\n",
              "    .colab-df-convert {\n",
              "      background-color: #E8F0FE;\n",
              "      border: none;\n",
              "      border-radius: 50%;\n",
              "      cursor: pointer;\n",
              "      display: none;\n",
              "      fill: #1967D2;\n",
              "      height: 32px;\n",
              "      padding: 0 0 0 0;\n",
              "      width: 32px;\n",
              "    }\n",
              "\n",
              "    .colab-df-convert:hover {\n",
              "      background-color: #E2EBFA;\n",
              "      box-shadow: 0px 1px 2px rgba(60, 64, 67, 0.3), 0px 1px 3px 1px rgba(60, 64, 67, 0.15);\n",
              "      fill: #174EA6;\n",
              "    }\n",
              "\n",
              "    [theme=dark] .colab-df-convert {\n",
              "      background-color: #3B4455;\n",
              "      fill: #D2E3FC;\n",
              "    }\n",
              "\n",
              "    [theme=dark] .colab-df-convert:hover {\n",
              "      background-color: #434B5C;\n",
              "      box-shadow: 0px 1px 3px 1px rgba(0, 0, 0, 0.15);\n",
              "      filter: drop-shadow(0px 1px 2px rgba(0, 0, 0, 0.3));\n",
              "      fill: #FFFFFF;\n",
              "    }\n",
              "  </style>\n",
              "\n",
              "      <script>\n",
              "        const buttonEl =\n",
              "          document.querySelector('#df-51568da7-481c-4605-9cf0-957b3d57f9b8 button.colab-df-convert');\n",
              "        buttonEl.style.display =\n",
              "          google.colab.kernel.accessAllowed ? 'block' : 'none';\n",
              "\n",
              "        async function convertToInteractive(key) {\n",
              "          const element = document.querySelector('#df-51568da7-481c-4605-9cf0-957b3d57f9b8');\n",
              "          const dataTable =\n",
              "            await google.colab.kernel.invokeFunction('convertToInteractive',\n",
              "                                                     [key], {});\n",
              "          if (!dataTable) return;\n",
              "\n",
              "          const docLinkHtml = 'Like what you see? Visit the ' +\n",
              "            '<a target=\"_blank\" href=https://colab.research.google.com/notebooks/data_table.ipynb>data table notebook</a>'\n",
              "            + ' to learn more about interactive tables.';\n",
              "          element.innerHTML = '';\n",
              "          dataTable['output_type'] = 'display_data';\n",
              "          await google.colab.output.renderOutput(dataTable, element);\n",
              "          const docLink = document.createElement('div');\n",
              "          docLink.innerHTML = docLinkHtml;\n",
              "          element.appendChild(docLink);\n",
              "        }\n",
              "      </script>\n",
              "    </div>\n",
              "  </div>\n",
              "  "
            ],
            "text/plain": [
              "    City  PM2.5   PM10    NO   NO2    NOx   NH3   CO  SO2    O3  ...   17  \\\n",
              "0  Delhi  454.6  935.2  81.5  41.8  187.7  27.5  9.3  3.4  54.9  ...  0.0   \n",
              "\n",
              "    18   19   20   21   22   23   24   25  hour1  \n",
              "0  0.0  0.0  0.0  0.0  0.0  0.0  0.0  0.0      1  \n",
              "\n",
              "[1 rows x 49 columns]"
            ]
          },
          "execution_count": 621,
          "metadata": {},
          "output_type": "execute_result"
        }
      ],
      "source": [
        "DF_concat[DF_concat.index==0]"
      ]
    },
    {
      "cell_type": "code",
      "execution_count": null,
      "metadata": {
        "id": "_L3csYHQ6IJg"
      },
      "outputs": [],
      "source": [
        "\n",
        "for i in range (DF_concat_test.shape[0]):\n",
        "\n",
        "      "
      ]
    }
  ],
  "metadata": {
    "accelerator": "GPU",
    "colab": {
      "machine_shape": "hm",
      "provenance": []
    },
    "gpuClass": "premium",
    "kernelspec": {
      "display_name": "Python 3",
      "name": "python3"
    },
    "language_info": {
      "name": "python"
    }
  },
  "nbformat": 4,
  "nbformat_minor": 0
}